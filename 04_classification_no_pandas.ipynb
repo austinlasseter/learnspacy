{
 "cells": [
  {
   "cell_type": "markdown",
   "metadata": {},
   "source": [
    "# Using `spaCy` for text classification"
   ]
  },
  {
   "cell_type": "markdown",
   "metadata": {},
   "source": [
    "Prior to running this code, it's necessary to install `spaCy` on your machine, and also to download its English libraries. "
   ]
  },
  {
   "cell_type": "code",
   "execution_count": 1,
   "metadata": {},
   "outputs": [],
   "source": [
    "import spacy\n",
    "import pandas as pd\n",
    "from spacy.tokens import Doc\n",
    "from spacy.vocab import Vocab"
   ]
  },
  {
   "cell_type": "code",
   "execution_count": 3,
   "metadata": {},
   "outputs": [],
   "source": [
    "# Load the pre-defined English model:\n",
    "# nlp = spacy.load('en')\n",
    "nlp = spacy.load('en_core_web_md')"
   ]
  },
  {
   "cell_type": "markdown",
   "metadata": {},
   "source": [
    "### Example from `spacy` documentation"
   ]
  },
  {
   "cell_type": "markdown",
   "metadata": {},
   "source": [
    "source: https://github.com/explosion/spaCy/issues/1997"
   ]
  },
  {
   "cell_type": "code",
   "execution_count": 4,
   "metadata": {},
   "outputs": [],
   "source": [
    "# Establish the training data\n",
    "train_data = [\n",
    "    (u\"That was very bad\", {\"cats\": {\"POSITIVE\": 0, \"NEGATIVE\": 1}}),\n",
    "    (u\"it is so bad\", {\"cats\": {\"POSITIVE\": 0, \"NEGATIVE\": 1}}),\n",
    "    (u\"so terrible\", {\"cats\": {\"POSITIVE\": 0, \"NEGATIVE\": 1}}),\n",
    "    (u\"I like it\", {\"cats\": {\"POSITIVE\": 1, \"NEGATIVE\": 0}}),\n",
    "    (u\"It is very good.\", {\"cats\": {\"POSITIVE\": 1, \"NEGATIVE\": 0}}),\n",
    "    (u\"That was great!\", {\"cats\": {\"POSITIVE\": 1, \"NEGATIVE\": 0}})\n",
    "]"
   ]
  },
  {
   "cell_type": "code",
   "execution_count": 5,
   "metadata": {},
   "outputs": [],
   "source": [
    "# Create an analytic \"pipeline\" of type \"textcat\"\n",
    "mytextcat1 = nlp.create_pipe('textcat')\n",
    "nlp.add_pipe(mytextcat1, last=True)"
   ]
  },
  {
   "cell_type": "code",
   "execution_count": 6,
   "metadata": {},
   "outputs": [
    {
     "data": {
      "text/plain": [
       "1"
      ]
     },
     "execution_count": 6,
     "metadata": {},
     "output_type": "execute_result"
    }
   ],
   "source": [
    "# Add labels to the pipeline. These will be called using the `.cats` attribute, below.\n",
    "mytextcat1.add_label('POSITIVE')\n",
    "mytextcat1.add_label('NEGATIVE')"
   ]
  },
  {
   "cell_type": "code",
   "execution_count": 7,
   "metadata": {},
   "outputs": [],
   "source": [
    "# Begin training. Note that \"gold\" refers to the \"ground truth\" labels.\n",
    "optimizer = nlp.begin_training()\n",
    "for itn in range(10):\n",
    "    for doc, gold in train_data:\n",
    "        nlp.update([doc], [gold], sgd=optimizer)"
   ]
  },
  {
   "cell_type": "code",
   "execution_count": 8,
   "metadata": {},
   "outputs": [
    {
     "name": "stdout",
     "output_type": "stream",
     "text": [
      "{'POSITIVE': 0.9901213645935059, 'NEGATIVE': 0.018102729693055153}\n"
     ]
    }
   ],
   "source": [
    "# Provide a new text, and classify it. The predicted category is called using the `.cats` attribute.\n",
    "doc = nlp(u'It is good.')\n",
    "print(doc.cats)"
   ]
  },
  {
   "cell_type": "code",
   "execution_count": 9,
   "metadata": {},
   "outputs": [
    {
     "name": "stdout",
     "output_type": "stream",
     "text": [
      "{'POSITIVE': 0.5460399985313416, 'NEGATIVE': 0.8994844555854797}\n"
     ]
    }
   ],
   "source": [
    "# Provide a new text, and classify it.\n",
    "doc = nlp(u'It is bad.')\n",
    "print(doc.cats)"
   ]
  },
  {
   "cell_type": "code",
   "execution_count": null,
   "metadata": {},
   "outputs": [],
   "source": []
  }
 ],
 "metadata": {
  "kernelspec": {
   "display_name": "Python (spacyenv)",
   "language": "python",
   "name": "spacyenv"
  },
  "language_info": {
   "codemirror_mode": {
    "name": "ipython",
    "version": 2
   },
   "file_extension": ".py",
   "mimetype": "text/x-python",
   "name": "python",
   "nbconvert_exporter": "python",
   "pygments_lexer": "ipython2",
   "version": "2.7.15"
  }
 },
 "nbformat": 4,
 "nbformat_minor": 2
}
