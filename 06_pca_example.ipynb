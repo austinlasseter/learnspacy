{
 "cells": [
  {
   "cell_type": "code",
   "execution_count": 3,
   "metadata": {},
   "outputs": [],
   "source": [
    "import spacy\n",
    "import pandas as pd\n",
    "import matplotlib.pyplot as plt"
   ]
  },
  {
   "cell_type": "code",
   "execution_count": 2,
   "metadata": {},
   "outputs": [],
   "source": [
    "# Load the pre-defined English model:\n",
    "nlp = spacy.load(\"en_core_web_lg\")"
   ]
  },
  {
   "cell_type": "code",
   "execution_count": 3,
   "metadata": {},
   "outputs": [],
   "source": [
    "# Process a text\n",
    "bananas_doc = nlp(\"bananas\")"
   ]
  },
  {
   "cell_type": "code",
   "execution_count": 4,
   "metadata": {},
   "outputs": [
    {
     "name": "stdout",
     "output_type": "stream",
     "text": [
      "[-0.22009  -0.030322 -0.079859 -0.46279  -0.386     0.36962  -0.77178\n",
      " -0.11529   0.033601  0.56573 ]\n"
     ]
    }
   ],
   "source": [
    "# Get the vector for the document\n",
    "bananas_vector = bananas_doc.vector\n",
    "print(bananas_vector[:10])"
   ]
  },
  {
   "cell_type": "code",
   "execution_count": 5,
   "metadata": {},
   "outputs": [
    {
     "data": {
      "text/plain": [
       "300"
      ]
     },
     "execution_count": 5,
     "metadata": {},
     "output_type": "execute_result"
    }
   ],
   "source": [
    "# How long is that vector?\n",
    "len(bananas_vector)"
   ]
  },
  {
   "cell_type": "code",
   "execution_count": 6,
   "metadata": {},
   "outputs": [
    {
     "data": {
      "text/plain": [
       "300"
      ]
     },
     "execution_count": 6,
     "metadata": {},
     "output_type": "execute_result"
    }
   ],
   "source": [
    "# Try another text. \n",
    "# For the 'en_core_web_sm' library it's always 96.\n",
    "# For the 'en_core_web_lg' library it's always 300.\n",
    "elephants_doc = nlp(\"elephants\")\n",
    "elephants_vector = elephants_doc.vector\n",
    "len(elephants_vector)"
   ]
  },
  {
   "cell_type": "code",
   "execution_count": 7,
   "metadata": {},
   "outputs": [
    {
     "data": {
      "text/plain": [
       "300"
      ]
     },
     "execution_count": 7,
     "metadata": {},
     "output_type": "execute_result"
    }
   ],
   "source": [
    "# One more.\n",
    "apples_doc = nlp(\"apples\")\n",
    "apples_vector = apples_doc.vector\n",
    "len(apples_vector)"
   ]
  },
  {
   "cell_type": "code",
   "execution_count": 8,
   "metadata": {},
   "outputs": [
    {
     "name": "stdout",
     "output_type": "stream",
     "text": [
      "0.3361130521078903\n"
     ]
    }
   ],
   "source": [
    "# How similar are bananas and elephants?\n",
    "bananas_elephants = bananas_doc.similarity(elephants_doc)\n",
    "print(bananas_elephants)"
   ]
  },
  {
   "cell_type": "code",
   "execution_count": 9,
   "metadata": {},
   "outputs": [
    {
     "name": "stdout",
     "output_type": "stream",
     "text": [
      "0.2557523718801148\n"
     ]
    }
   ],
   "source": [
    "# How similar are elephants and apples?\n",
    "elephants_apples = elephants_doc.similarity(apples_doc)\n",
    "print(elephants_apples)"
   ]
  },
  {
   "cell_type": "code",
   "execution_count": 10,
   "metadata": {},
   "outputs": [
    {
     "name": "stdout",
     "output_type": "stream",
     "text": [
      "0.7502697596349158\n"
     ]
    }
   ],
   "source": [
    "# How similar are bananas and apples?\n",
    "bananas_apples = bananas_doc.similarity(apples_doc)\n",
    "print(bananas_apples)"
   ]
  },
  {
   "cell_type": "code",
   "execution_count": 11,
   "metadata": {},
   "outputs": [],
   "source": [
    "# import the PCA module from sklearn\n",
    "from sklearn.decomposition import PCA"
   ]
  },
  {
   "cell_type": "code",
   "execution_count": 12,
   "metadata": {},
   "outputs": [],
   "source": [
    "# converts a list of words into their word vectors\n",
    "def get_word_vectors(words):    \n",
    "    return [nlp(word).vector for word in words]"
   ]
  },
  {
   "cell_type": "code",
   "execution_count": 26,
   "metadata": {},
   "outputs": [],
   "source": [
    "# our list of 10 words\n",
    "words = ['car', 'truck', 'suv', 'elves', 'dragon', 'sword', 'king', 'queen', 'prince',  'potato']"
   ]
  },
  {
   "cell_type": "code",
   "execution_count": 27,
   "metadata": {},
   "outputs": [
    {
     "data": {
      "text/plain": [
       "10"
      ]
     },
     "execution_count": 27,
     "metadata": {},
     "output_type": "execute_result"
    }
   ],
   "source": [
    "# create a 10x300 dataframe\n",
    "dim_300=get_word_vectors(words)\n",
    "len(dim_300)"
   ]
  },
  {
   "cell_type": "code",
   "execution_count": 28,
   "metadata": {},
   "outputs": [
    {
     "data": {
      "text/plain": [
       "300"
      ]
     },
     "execution_count": 28,
     "metadata": {},
     "output_type": "execute_result"
    }
   ],
   "source": [
    "# each row has 300 columns\n",
    "len(dim_300[0])"
   ]
  },
  {
   "cell_type": "code",
   "execution_count": 29,
   "metadata": {},
   "outputs": [
    {
     "data": {
      "text/html": [
       "<div>\n",
       "<style scoped>\n",
       "    .dataframe tbody tr th:only-of-type {\n",
       "        vertical-align: middle;\n",
       "    }\n",
       "\n",
       "    .dataframe tbody tr th {\n",
       "        vertical-align: top;\n",
       "    }\n",
       "\n",
       "    .dataframe thead th {\n",
       "        text-align: right;\n",
       "    }\n",
       "</style>\n",
       "<table border=\"1\" class=\"dataframe\">\n",
       "  <thead>\n",
       "    <tr style=\"text-align: right;\">\n",
       "      <th></th>\n",
       "      <th>0</th>\n",
       "      <th>1</th>\n",
       "      <th>2</th>\n",
       "      <th>3</th>\n",
       "      <th>4</th>\n",
       "      <th>5</th>\n",
       "      <th>6</th>\n",
       "      <th>7</th>\n",
       "      <th>8</th>\n",
       "      <th>9</th>\n",
       "      <th>...</th>\n",
       "      <th>290</th>\n",
       "      <th>291</th>\n",
       "      <th>292</th>\n",
       "      <th>293</th>\n",
       "      <th>294</th>\n",
       "      <th>295</th>\n",
       "      <th>296</th>\n",
       "      <th>297</th>\n",
       "      <th>298</th>\n",
       "      <th>299</th>\n",
       "    </tr>\n",
       "  </thead>\n",
       "  <tbody>\n",
       "    <tr>\n",
       "      <th>car</th>\n",
       "      <td>0.209870</td>\n",
       "      <td>0.46481</td>\n",
       "      <td>-0.242380</td>\n",
       "      <td>-0.065751</td>\n",
       "      <td>0.60856</td>\n",
       "      <td>-0.346980</td>\n",
       "      <td>-0.25331</td>\n",
       "      <td>-0.42590</td>\n",
       "      <td>-0.222770</td>\n",
       "      <td>2.2913</td>\n",
       "      <td>...</td>\n",
       "      <td>-1.19240</td>\n",
       "      <td>-0.463950</td>\n",
       "      <td>0.669840</td>\n",
       "      <td>-0.49404</td>\n",
       "      <td>0.441540</td>\n",
       "      <td>-0.43699</td>\n",
       "      <td>0.235380</td>\n",
       "      <td>0.321350</td>\n",
       "      <td>0.266490</td>\n",
       "      <td>0.224380</td>\n",
       "    </tr>\n",
       "    <tr>\n",
       "      <th>truck</th>\n",
       "      <td>0.219160</td>\n",
       "      <td>0.33113</td>\n",
       "      <td>0.068603</td>\n",
       "      <td>-0.158140</td>\n",
       "      <td>0.47723</td>\n",
       "      <td>0.280000</td>\n",
       "      <td>-0.40688</td>\n",
       "      <td>-0.37803</td>\n",
       "      <td>-0.093286</td>\n",
       "      <td>1.9458</td>\n",
       "      <td>...</td>\n",
       "      <td>-0.64227</td>\n",
       "      <td>-0.906760</td>\n",
       "      <td>0.869490</td>\n",
       "      <td>-0.28303</td>\n",
       "      <td>-0.084425</td>\n",
       "      <td>-0.89242</td>\n",
       "      <td>0.129450</td>\n",
       "      <td>0.275580</td>\n",
       "      <td>0.073594</td>\n",
       "      <td>-0.029304</td>\n",
       "    </tr>\n",
       "    <tr>\n",
       "      <th>suv</th>\n",
       "      <td>-0.068504</td>\n",
       "      <td>0.42310</td>\n",
       "      <td>0.329890</td>\n",
       "      <td>-0.419290</td>\n",
       "      <td>0.51394</td>\n",
       "      <td>0.097215</td>\n",
       "      <td>0.11566</td>\n",
       "      <td>-0.10200</td>\n",
       "      <td>-0.194500</td>\n",
       "      <td>-0.3830</td>\n",
       "      <td>...</td>\n",
       "      <td>-0.52782</td>\n",
       "      <td>-0.576770</td>\n",
       "      <td>-0.043894</td>\n",
       "      <td>-1.07040</td>\n",
       "      <td>0.207500</td>\n",
       "      <td>-0.72830</td>\n",
       "      <td>-0.131050</td>\n",
       "      <td>0.030543</td>\n",
       "      <td>0.349170</td>\n",
       "      <td>-0.418070</td>\n",
       "    </tr>\n",
       "    <tr>\n",
       "      <th>elves</th>\n",
       "      <td>-0.526580</td>\n",
       "      <td>-0.63112</td>\n",
       "      <td>-0.962200</td>\n",
       "      <td>-0.232330</td>\n",
       "      <td>-0.38139</td>\n",
       "      <td>-0.024054</td>\n",
       "      <td>0.32924</td>\n",
       "      <td>0.31445</td>\n",
       "      <td>-0.587620</td>\n",
       "      <td>1.0160</td>\n",
       "      <td>...</td>\n",
       "      <td>-0.57048</td>\n",
       "      <td>0.398160</td>\n",
       "      <td>0.296440</td>\n",
       "      <td>0.44622</td>\n",
       "      <td>-0.376030</td>\n",
       "      <td>0.40369</td>\n",
       "      <td>0.048205</td>\n",
       "      <td>0.129960</td>\n",
       "      <td>0.003736</td>\n",
       "      <td>-0.199620</td>\n",
       "    </tr>\n",
       "    <tr>\n",
       "      <th>dragon</th>\n",
       "      <td>-0.329310</td>\n",
       "      <td>-0.51365</td>\n",
       "      <td>-0.285020</td>\n",
       "      <td>-0.194470</td>\n",
       "      <td>-0.10735</td>\n",
       "      <td>0.105630</td>\n",
       "      <td>0.14797</td>\n",
       "      <td>0.27913</td>\n",
       "      <td>0.069221</td>\n",
       "      <td>0.7256</td>\n",
       "      <td>...</td>\n",
       "      <td>-0.36388</td>\n",
       "      <td>-0.069899</td>\n",
       "      <td>-0.343330</td>\n",
       "      <td>0.18140</td>\n",
       "      <td>0.082393</td>\n",
       "      <td>0.85123</td>\n",
       "      <td>-0.086035</td>\n",
       "      <td>0.795440</td>\n",
       "      <td>0.700320</td>\n",
       "      <td>-0.161140</td>\n",
       "    </tr>\n",
       "  </tbody>\n",
       "</table>\n",
       "<p>5 rows × 300 columns</p>\n",
       "</div>"
      ],
      "text/plain": [
       "             0        1         2         3        4         5        6    \\\n",
       "car     0.209870  0.46481 -0.242380 -0.065751  0.60856 -0.346980 -0.25331   \n",
       "truck   0.219160  0.33113  0.068603 -0.158140  0.47723  0.280000 -0.40688   \n",
       "suv    -0.068504  0.42310  0.329890 -0.419290  0.51394  0.097215  0.11566   \n",
       "elves  -0.526580 -0.63112 -0.962200 -0.232330 -0.38139 -0.024054  0.32924   \n",
       "dragon -0.329310 -0.51365 -0.285020 -0.194470 -0.10735  0.105630  0.14797   \n",
       "\n",
       "            7         8       9    ...      290       291       292      293  \\\n",
       "car    -0.42590 -0.222770  2.2913  ... -1.19240 -0.463950  0.669840 -0.49404   \n",
       "truck  -0.37803 -0.093286  1.9458  ... -0.64227 -0.906760  0.869490 -0.28303   \n",
       "suv    -0.10200 -0.194500 -0.3830  ... -0.52782 -0.576770 -0.043894 -1.07040   \n",
       "elves   0.31445 -0.587620  1.0160  ... -0.57048  0.398160  0.296440  0.44622   \n",
       "dragon  0.27913  0.069221  0.7256  ... -0.36388 -0.069899 -0.343330  0.18140   \n",
       "\n",
       "             294      295       296       297       298       299  \n",
       "car     0.441540 -0.43699  0.235380  0.321350  0.266490  0.224380  \n",
       "truck  -0.084425 -0.89242  0.129450  0.275580  0.073594 -0.029304  \n",
       "suv     0.207500 -0.72830 -0.131050  0.030543  0.349170 -0.418070  \n",
       "elves  -0.376030  0.40369  0.048205  0.129960  0.003736 -0.199620  \n",
       "dragon  0.082393  0.85123 -0.086035  0.795440  0.700320 -0.161140  \n",
       "\n",
       "[5 rows x 300 columns]"
      ]
     },
     "execution_count": 29,
     "metadata": {},
     "output_type": "execute_result"
    }
   ],
   "source": [
    "# check that out as a dataframe\n",
    "df_300=pd.DataFrame(dim_300, index=words)\n",
    "df_300.head()"
   ]
  },
  {
   "cell_type": "markdown",
   "metadata": {},
   "source": [
    "### Apply PCA"
   ]
  },
  {
   "cell_type": "code",
   "execution_count": 30,
   "metadata": {},
   "outputs": [],
   "source": [
    "# intialise pca model and tell it to project data down onto 2 dimensions\n",
    "pca = PCA(n_components=2)"
   ]
  },
  {
   "cell_type": "code",
   "execution_count": 35,
   "metadata": {},
   "outputs": [
    {
     "data": {
      "text/plain": [
       "PCA(copy=True, iterated_power='auto', n_components=2, random_state=None,\n",
       "    svd_solver='auto', tol=0.0, whiten=False)"
      ]
     },
     "execution_count": 35,
     "metadata": {},
     "output_type": "execute_result"
    }
   ],
   "source": [
    "# fit the pca model to our 300-dimensional data, this will work out which is the best \n",
    "# way to project the data down that will best maintain the relative distances \n",
    "# between data points. It will store these intructioons on how to transform the data.\n",
    "pca.fit(df_300)"
   ]
  },
  {
   "cell_type": "code",
   "execution_count": 36,
   "metadata": {},
   "outputs": [
    {
     "data": {
      "text/plain": [
       "10"
      ]
     },
     "execution_count": 36,
     "metadata": {},
     "output_type": "execute_result"
    }
   ],
   "source": [
    "# Tell our (fitted) pca model to transform our 300D data down onto 2D using the \n",
    "# instructions it learnt during the fit phase.\n",
    "word_vecs_2d = pca.transform(df_300)\n",
    "len(word_vecs_2d)"
   ]
  },
  {
   "cell_type": "code",
   "execution_count": 42,
   "metadata": {},
   "outputs": [
    {
     "name": "stdout",
     "output_type": "stream",
     "text": [
      "car\n"
     ]
    },
    {
     "data": {
      "text/plain": [
       "array([4.93139721, 0.24494976])"
      ]
     },
     "execution_count": 42,
     "metadata": {},
     "output_type": "execute_result"
    }
   ],
   "source": [
    "# let's look at our first word and its new 2D word vectors\n",
    "print(words[0])\n",
    "word_vecs_2d[0]"
   ]
  },
  {
   "cell_type": "code",
   "execution_count": 43,
   "metadata": {},
   "outputs": [
    {
     "data": {
      "image/png": "[encoded data removed]",
      "text/plain": [
       "<Figure size 1440x1080 with 1 Axes>"
      ]
     },
     "metadata": {
      "needs_background": "light"
     },
     "output_type": "display_data"
    }
   ],
   "source": [
    "# create a nice big plot \n",
    "plt.figure(figsize=(20,15))\n",
    "plt.rc('xtick',labelsize=25)\n",
    "plt.rc('ytick',labelsize=25)\n",
    "\n",
    "# plot the scatter plot of where the words will be\n",
    "plt.scatter(word_vecs_2d[:,0], word_vecs_2d[:,1], s=20000, alpha=.2)\n",
    "\n",
    "# for each word and coordinate pair: draw the text on the plot\n",
    "for word, coord in zip(words, word_vecs_2d):\n",
    "    x, y = coord\n",
    "    plt.text(x, y, word, size=30)\n",
    "\n",
    "# show the plot\n",
    "plt.show()"
   ]
  },
  {
   "cell_type": "code",
   "execution_count": 44,
   "metadata": {},
   "outputs": [],
   "source": [
    "# Save the 10x300 dataframe for later use\n",
    "df_300.to_pickle('words300df.pkl')"
   ]
  },
  {
   "cell_type": "code",
   "execution_count": 5,
   "metadata": {},
   "outputs": [
    {
     "data": {
      "text/html": [
       "<div>\n",
       "<style scoped>\n",
       "    .dataframe tbody tr th:only-of-type {\n",
       "        vertical-align: middle;\n",
       "    }\n",
       "\n",
       "    .dataframe tbody tr th {\n",
       "        vertical-align: top;\n",
       "    }\n",
       "\n",
       "    .dataframe thead th {\n",
       "        text-align: right;\n",
       "    }\n",
       "</style>\n",
       "<table border=\"1\" class=\"dataframe\">\n",
       "  <thead>\n",
       "    <tr style=\"text-align: right;\">\n",
       "      <th></th>\n",
       "      <th>0</th>\n",
       "      <th>1</th>\n",
       "      <th>2</th>\n",
       "      <th>3</th>\n",
       "      <th>4</th>\n",
       "      <th>5</th>\n",
       "      <th>6</th>\n",
       "      <th>7</th>\n",
       "      <th>8</th>\n",
       "      <th>9</th>\n",
       "      <th>...</th>\n",
       "      <th>290</th>\n",
       "      <th>291</th>\n",
       "      <th>292</th>\n",
       "      <th>293</th>\n",
       "      <th>294</th>\n",
       "      <th>295</th>\n",
       "      <th>296</th>\n",
       "      <th>297</th>\n",
       "      <th>298</th>\n",
       "      <th>299</th>\n",
       "    </tr>\n",
       "  </thead>\n",
       "  <tbody>\n",
       "    <tr>\n",
       "      <th>car</th>\n",
       "      <td>0.209870</td>\n",
       "      <td>0.46481</td>\n",
       "      <td>-0.242380</td>\n",
       "      <td>-0.065751</td>\n",
       "      <td>0.60856</td>\n",
       "      <td>-0.346980</td>\n",
       "      <td>-0.25331</td>\n",
       "      <td>-0.42590</td>\n",
       "      <td>-0.222770</td>\n",
       "      <td>2.2913</td>\n",
       "      <td>...</td>\n",
       "      <td>-1.19240</td>\n",
       "      <td>-0.463950</td>\n",
       "      <td>0.669840</td>\n",
       "      <td>-0.49404</td>\n",
       "      <td>0.441540</td>\n",
       "      <td>-0.43699</td>\n",
       "      <td>0.235380</td>\n",
       "      <td>0.321350</td>\n",
       "      <td>0.266490</td>\n",
       "      <td>0.224380</td>\n",
       "    </tr>\n",
       "    <tr>\n",
       "      <th>truck</th>\n",
       "      <td>0.219160</td>\n",
       "      <td>0.33113</td>\n",
       "      <td>0.068603</td>\n",
       "      <td>-0.158140</td>\n",
       "      <td>0.47723</td>\n",
       "      <td>0.280000</td>\n",
       "      <td>-0.40688</td>\n",
       "      <td>-0.37803</td>\n",
       "      <td>-0.093286</td>\n",
       "      <td>1.9458</td>\n",
       "      <td>...</td>\n",
       "      <td>-0.64227</td>\n",
       "      <td>-0.906760</td>\n",
       "      <td>0.869490</td>\n",
       "      <td>-0.28303</td>\n",
       "      <td>-0.084425</td>\n",
       "      <td>-0.89242</td>\n",
       "      <td>0.129450</td>\n",
       "      <td>0.275580</td>\n",
       "      <td>0.073594</td>\n",
       "      <td>-0.029304</td>\n",
       "    </tr>\n",
       "    <tr>\n",
       "      <th>suv</th>\n",
       "      <td>-0.068504</td>\n",
       "      <td>0.42310</td>\n",
       "      <td>0.329890</td>\n",
       "      <td>-0.419290</td>\n",
       "      <td>0.51394</td>\n",
       "      <td>0.097215</td>\n",
       "      <td>0.11566</td>\n",
       "      <td>-0.10200</td>\n",
       "      <td>-0.194500</td>\n",
       "      <td>-0.3830</td>\n",
       "      <td>...</td>\n",
       "      <td>-0.52782</td>\n",
       "      <td>-0.576770</td>\n",
       "      <td>-0.043894</td>\n",
       "      <td>-1.07040</td>\n",
       "      <td>0.207500</td>\n",
       "      <td>-0.72830</td>\n",
       "      <td>-0.131050</td>\n",
       "      <td>0.030543</td>\n",
       "      <td>0.349170</td>\n",
       "      <td>-0.418070</td>\n",
       "    </tr>\n",
       "    <tr>\n",
       "      <th>elves</th>\n",
       "      <td>-0.526580</td>\n",
       "      <td>-0.63112</td>\n",
       "      <td>-0.962200</td>\n",
       "      <td>-0.232330</td>\n",
       "      <td>-0.38139</td>\n",
       "      <td>-0.024054</td>\n",
       "      <td>0.32924</td>\n",
       "      <td>0.31445</td>\n",
       "      <td>-0.587620</td>\n",
       "      <td>1.0160</td>\n",
       "      <td>...</td>\n",
       "      <td>-0.57048</td>\n",
       "      <td>0.398160</td>\n",
       "      <td>0.296440</td>\n",
       "      <td>0.44622</td>\n",
       "      <td>-0.376030</td>\n",
       "      <td>0.40369</td>\n",
       "      <td>0.048205</td>\n",
       "      <td>0.129960</td>\n",
       "      <td>0.003736</td>\n",
       "      <td>-0.199620</td>\n",
       "    </tr>\n",
       "    <tr>\n",
       "      <th>dragon</th>\n",
       "      <td>-0.329310</td>\n",
       "      <td>-0.51365</td>\n",
       "      <td>-0.285020</td>\n",
       "      <td>-0.194470</td>\n",
       "      <td>-0.10735</td>\n",
       "      <td>0.105630</td>\n",
       "      <td>0.14797</td>\n",
       "      <td>0.27913</td>\n",
       "      <td>0.069221</td>\n",
       "      <td>0.7256</td>\n",
       "      <td>...</td>\n",
       "      <td>-0.36388</td>\n",
       "      <td>-0.069899</td>\n",
       "      <td>-0.343330</td>\n",
       "      <td>0.18140</td>\n",
       "      <td>0.082393</td>\n",
       "      <td>0.85123</td>\n",
       "      <td>-0.086035</td>\n",
       "      <td>0.795440</td>\n",
       "      <td>0.700320</td>\n",
       "      <td>-0.161140</td>\n",
       "    </tr>\n",
       "  </tbody>\n",
       "</table>\n",
       "<p>5 rows × 300 columns</p>\n",
       "</div>"
      ],
      "text/plain": [
       "             0        1         2         3        4         5        6    \\\n",
       "car     0.209870  0.46481 -0.242380 -0.065751  0.60856 -0.346980 -0.25331   \n",
       "truck   0.219160  0.33113  0.068603 -0.158140  0.47723  0.280000 -0.40688   \n",
       "suv    -0.068504  0.42310  0.329890 -0.419290  0.51394  0.097215  0.11566   \n",
       "elves  -0.526580 -0.63112 -0.962200 -0.232330 -0.38139 -0.024054  0.32924   \n",
       "dragon -0.329310 -0.51365 -0.285020 -0.194470 -0.10735  0.105630  0.14797   \n",
       "\n",
       "            7         8       9    ...      290       291       292      293  \\\n",
       "car    -0.42590 -0.222770  2.2913  ... -1.19240 -0.463950  0.669840 -0.49404   \n",
       "truck  -0.37803 -0.093286  1.9458  ... -0.64227 -0.906760  0.869490 -0.28303   \n",
       "suv    -0.10200 -0.194500 -0.3830  ... -0.52782 -0.576770 -0.043894 -1.07040   \n",
       "elves   0.31445 -0.587620  1.0160  ... -0.57048  0.398160  0.296440  0.44622   \n",
       "dragon  0.27913  0.069221  0.7256  ... -0.36388 -0.069899 -0.343330  0.18140   \n",
       "\n",
       "             294      295       296       297       298       299  \n",
       "car     0.441540 -0.43699  0.235380  0.321350  0.266490  0.224380  \n",
       "truck  -0.084425 -0.89242  0.129450  0.275580  0.073594 -0.029304  \n",
       "suv     0.207500 -0.72830 -0.131050  0.030543  0.349170 -0.418070  \n",
       "elves  -0.376030  0.40369  0.048205  0.129960  0.003736 -0.199620  \n",
       "dragon  0.082393  0.85123 -0.086035  0.795440  0.700320 -0.161140  \n",
       "\n",
       "[5 rows x 300 columns]"
      ]
     },
     "execution_count": 5,
     "metadata": {},
     "output_type": "execute_result"
    }
   ],
   "source": [
    "# words\n",
    "words=pd.read_pickle('words300df.pkl')\n",
    "words.head()"
   ]
  },
  {
   "cell_type": "code",
   "execution_count": 7,
   "metadata": {},
   "outputs": [],
   "source": [
    "words.to_csv('words300df.csv', index=False)"
   ]
  },
  {
   "cell_type": "code",
   "execution_count": null,
   "metadata": {},
   "outputs": [],
   "source": []
  }
 ],
 "metadata": {
  "kernelspec": {
   "display_name": "Python (spacyenv)",
   "language": "python",
   "name": "spacyenv"
  },
  "language_info": {
   "codemirror_mode": {
    "name": "ipython",
    "version": 3
   },
   "file_extension": ".py",
   "mimetype": "text/x-python",
   "name": "python",
   "nbconvert_exporter": "python",
   "pygments_lexer": "ipython3",
   "version": "3.7.3"
  }
 },
 "nbformat": 4,
 "nbformat_minor": 2
}
