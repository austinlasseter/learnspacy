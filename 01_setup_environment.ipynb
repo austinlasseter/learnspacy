{
 "cells": [
  {
   "cell_type": "markdown",
   "metadata": {},
   "source": [
    "# Setting up the environment to use `spaCy`"
   ]
  },
  {
   "cell_type": "markdown",
   "metadata": {},
   "source": [
    "Prior to running this code, it's necessary to install `spaCy` on your machine, and also to download its English libraries. "
   ]
  },
  {
   "cell_type": "markdown",
   "metadata": {},
   "source": [
    "#### Create a virtual environment on a Windows machine (using Anaconda prompt):\n",
    "\n",
    "* create an Anaconda virtual environment:   \n",
    "``` \n",
    "conda create --name spacyenv \n",
    "```   \n",
    "\n",
    "* activate the virtual environment:   \n",
    "```\n",
    "conda activate spacyenv\n",
    "```   \n",
    "\n",
    "* shut down the virtual environment once the session is complete:\n",
    "```\n",
    "deactivate\n",
    "```"
   ]
  },
  {
   "cell_type": "markdown",
   "metadata": {},
   "source": [
    "#### Create a virtual environment on a Mac (using terminal):\n",
    "\n",
    "* install the `virtualenv` package:   \n",
    "```\n",
    "conda install virtualenv\n",
    "```\n",
    "\n",
    "* create a virtual environment:   \n",
    "``` \n",
    "python -m venv spacyenv\n",
    "```   \n",
    "\n",
    "* activate the virtual environment:   \n",
    "```\n",
    "source spacyenv/bin/activate\n",
    "```   \n",
    "\n",
    "* shut down the virtual environment once the session is complete:\n",
    "```\n",
    "deactivate\n",
    "```"
   ]
  },
  {
   "cell_type": "markdown",
   "metadata": {},
   "source": [
    "#### Install `spaCy`:\n",
    "\n",
    "* install spaCy in the virtual environment:\n",
    "```\n",
    "conda install -c conda-forge spacy \n",
    "```\n",
    "* download the small English library:\n",
    "```\n",
    "python -m spacy download en\n",
    "```\n",
    "* be sure to also install `pandas` and any other necessary packages inside the virtual environment!\n",
    "\n",
    "Additional documentation is [here](https://spacy.io/usage/)."
   ]
  },
  {
   "cell_type": "markdown",
   "metadata": {},
   "source": [
    "#### Install and activate ipython kernel:\n",
    "\n",
    "* install the [ipython kernel package](https://ipython.readthedocs.io/en/stable/install/kernel_install.html) - this allows you to use virtual environments in `jupyter` and `atom hydrogen`:\n",
    "```\n",
    "conda install ipykernel\n",
    "```\n",
    "* create a [new ipython kernel](https://stackoverflow.com/questions/39604271/conda-environments-not-showing-up-in-jupyter-notebook) and give it a name:\n",
    "```\n",
    "python -m ipykernel install --user --name spacyenv --display-name \"Python (spacyenv)\" \n",
    "```\n",
    "\n",
    "* be sure to open jupyter notebook from _inside_ the activated virtualenv."
   ]
  },
  {
   "cell_type": "markdown",
   "metadata": {},
   "source": [
    "#### How to change the kernel in a jupyter notebook:\n",
    "<img src=\"resources/changekernel.png\" alt=\"change kernel\" style=\"width: 600px;\"/>"
   ]
  },
  {
   "cell_type": "code",
   "execution_count": 1,
   "metadata": {},
   "outputs": [],
   "source": [
    "import spacy\n",
    "import pandas as pd\n",
    "from spacy.tokens import Doc\n",
    "from spacy.vocab import Vocab"
   ]
  },
  {
   "cell_type": "code",
   "execution_count": 2,
   "metadata": {},
   "outputs": [
    {
     "data": {
      "text/plain": [
       "'2.0.18'"
      ]
     },
     "execution_count": 2,
     "metadata": {},
     "output_type": "execute_result"
    }
   ],
   "source": [
    "# Make sure that we've installed the latest version of `spacy`.\n",
    "spacy.__version__"
   ]
  },
  {
   "cell_type": "code",
   "execution_count": 3,
   "metadata": {},
   "outputs": [],
   "source": [
    "# Load the small pre-defined general English model (this is sufficient for most tasks):\n",
    "nlp = spacy.load('en')"
   ]
  },
  {
   "cell_type": "code",
   "execution_count": 4,
   "metadata": {},
   "outputs": [],
   "source": [
    "# Load the small pre-defined English model (requires less memory, good for small tasks):\n",
    "nlp = spacy.load('en_core_web_sm')"
   ]
  },
  {
   "cell_type": "code",
   "execution_count": 5,
   "metadata": {},
   "outputs": [],
   "source": [
    "# Tokenize a sample sentence:\n",
    "doc = nlp(u'The quick brown fox jumps over the lazy dog.')"
   ]
  },
  {
   "cell_type": "code",
   "execution_count": 6,
   "metadata": {},
   "outputs": [
    {
     "name": "stdout",
     "output_type": "stream",
     "text": [
      "The DET\n",
      "quick ADJ\n",
      "brown ADJ\n",
      "fox NOUN\n",
      "jumps VERB\n",
      "over ADP\n",
      "the DET\n",
      "lazy ADJ\n",
      "dog NOUN\n",
      ". PUNCT\n"
     ]
    }
   ],
   "source": [
    "# Print tokens and part of speech\n",
    "for token in doc:\n",
    "    print(token.text, token.pos_)"
   ]
  },
  {
   "cell_type": "code",
   "execution_count": null,
   "metadata": {},
   "outputs": [],
   "source": []
  }
 ],
 "metadata": {
  "kernelspec": {
   "display_name": "Python (spacyenv)",
   "language": "python",
   "name": "spacyenv"
  },
  "language_info": {
   "codemirror_mode": {
    "name": "ipython",
    "version": 3
   },
   "file_extension": ".py",
   "mimetype": "text/x-python",
   "name": "python",
   "nbconvert_exporter": "python",
   "pygments_lexer": "ipython3",
   "version": "3.6.6"
  }
 },
 "nbformat": 4,
 "nbformat_minor": 2
}
