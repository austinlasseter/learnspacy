{
 "cells": [
  {
   "cell_type": "markdown",
   "metadata": {},
   "source": [
    "# Using `spaCy` for text classification"
   ]
  },
  {
   "cell_type": "markdown",
   "metadata": {},
   "source": [
    "Prior to running this code, it's necessary to install `spaCy` on your machine, and also to download its English libraries. "
   ]
  },
  {
   "cell_type": "markdown",
   "metadata": {},
   "source": [
    "*Note:* I'd like to install sklearn in the virtual environment, but `jupyter` is having trouble calling it. I've tried the following to troubleshoot, but so far no dice. Will solve this later.  \n",
    "* https://stackoverflow.com/questions/42449814/running-jupyter-notebook-in-a-virtualenv-installed-sklearn-module-not-available  "
   ]
  },
  {
   "cell_type": "code",
   "execution_count": 1,
   "metadata": {},
   "outputs": [],
   "source": [
    "import spacy\n",
    "import pandas as pd\n",
    "import numpy as np\n",
    "import matplotlib.pyplot as plt\n",
    "from spacy.tokens import Doc\n",
    "from spacy.vocab import Vocab"
   ]
  },
  {
   "cell_type": "code",
   "execution_count": 2,
   "metadata": {},
   "outputs": [],
   "source": [
    "# Load the pre-defined English model:\n",
    "nlp = spacy.load('en')\n",
    "# nlp = spacy.load('en_core_web_md')"
   ]
  },
  {
   "cell_type": "markdown",
   "metadata": {},
   "source": [
    "### Example using Pandas dataframe"
   ]
  },
  {
   "cell_type": "code",
   "execution_count": 3,
   "metadata": {},
   "outputs": [],
   "source": [
    "# Read in a CSV file with a column of text abstracts. Keep only the columns we need.\n",
    "df = pd.read_csv('resources/fedreg_18-05-22-14-45.csv')\n",
    "df = df[['agency', 'abstract', 'type']]\n",
    "df['abstract']=df['abstract'].astype(str) # Make sure all values are strings. There were some floats in here."
   ]
  },
  {
   "cell_type": "code",
   "execution_count": 4,
   "metadata": {},
   "outputs": [
    {
     "data": {
      "text/plain": [
       "(2000, 4)"
      ]
     },
     "execution_count": 4,
     "metadata": {},
     "output_type": "execute_result"
    }
   ],
   "source": [
    "# A little cleaning.\n",
    "# df['abstract-utf8']=df['abstract'].apply(lambda x: x.decode('utf-8')) # Convert to unicode\n",
    "df['abstract-utf8']=df['abstract']\n",
    "df = df.dropna(how='any') # get rid of missing data.\n",
    "df.shape"
   ]
  },
  {
   "cell_type": "code",
   "execution_count": 5,
   "metadata": {},
   "outputs": [
    {
     "data": {
      "text/plain": [
       "Notice    1537\n",
       "Rule       430\n",
       "Name: type, dtype: int64"
      ]
     },
     "execution_count": 5,
     "metadata": {},
     "output_type": "execute_result"
    }
   ],
   "source": [
    "# Let's do a little recording, and then take a look at the label column.\n",
    "df.loc[df['type']=='Proposed Rule', 'type']='Rule'\n",
    "df=df.loc[df['type']!='Presidential Document']\n",
    "df['type'].value_counts(dropna=False)"
   ]
  },
  {
   "cell_type": "code",
   "execution_count": 6,
   "metadata": {},
   "outputs": [],
   "source": [
    "# Split into training and testing data. Keeping it small so the example doesn't take so long.\n",
    "df_train=df.head(100)\n",
    "df_test=df.tail(100)"
   ]
  },
  {
   "cell_type": "code",
   "execution_count": 7,
   "metadata": {},
   "outputs": [],
   "source": [
    "# Create a dictionary with the abstract and its labels.\n",
    "def dictionize_me(row):\n",
    "    if row['type']=='Rule':\n",
    "        return (row['abstract-utf8'], {\"cats\": {\"Notice\": 0, \"Rule\": 1}})\n",
    "    else:\n",
    "        return (row['abstract-utf8'], {\"cats\": {\"Notice\": 1, \"Rule\": 0}})"
   ]
  },
  {
   "cell_type": "code",
   "execution_count": 8,
   "metadata": {},
   "outputs": [
    {
     "name": "stderr",
     "output_type": "stream",
     "text": [
      "/Users/austinlasseter/atelier/schoolhouse/learnspacy/spacyenv/lib/python3.6/site-packages/ipykernel_launcher.py:2: SettingWithCopyWarning: \n",
      "A value is trying to be set on a copy of a slice from a DataFrame.\n",
      "Try using .loc[row_indexer,col_indexer] = value instead\n",
      "\n",
      "See the caveats in the documentation: http://pandas.pydata.org/pandas-docs/stable/indexing.html#indexing-view-versus-copy\n",
      "  \n"
     ]
    },
    {
     "data": {
      "text/html": [
       "<div>\n",
       "<style scoped>\n",
       "    .dataframe tbody tr th:only-of-type {\n",
       "        vertical-align: middle;\n",
       "    }\n",
       "\n",
       "    .dataframe tbody tr th {\n",
       "        vertical-align: top;\n",
       "    }\n",
       "\n",
       "    .dataframe thead th {\n",
       "        text-align: right;\n",
       "    }\n",
       "</style>\n",
       "<table border=\"1\" class=\"dataframe\">\n",
       "  <thead>\n",
       "    <tr style=\"text-align: right;\">\n",
       "      <th></th>\n",
       "      <th>agency</th>\n",
       "      <th>abstract</th>\n",
       "      <th>type</th>\n",
       "      <th>abstract-utf8</th>\n",
       "      <th>newcol</th>\n",
       "    </tr>\n",
       "  </thead>\n",
       "  <tbody>\n",
       "    <tr>\n",
       "      <th>1</th>\n",
       "      <td>Transportation Department</td>\n",
       "      <td>We are superseding Airworthiness Directive (AD...</td>\n",
       "      <td>Rule</td>\n",
       "      <td>We are superseding Airworthiness Directive (AD...</td>\n",
       "      <td>(We are superseding Airworthiness Directive (A...</td>\n",
       "    </tr>\n",
       "    <tr>\n",
       "      <th>2</th>\n",
       "      <td>Commodity Futures Trading Commission</td>\n",
       "      <td>The Commodity Futures Trading Commission (Comm...</td>\n",
       "      <td>Rule</td>\n",
       "      <td>The Commodity Futures Trading Commission (Comm...</td>\n",
       "      <td>(The Commodity Futures Trading Commission (Com...</td>\n",
       "    </tr>\n",
       "  </tbody>\n",
       "</table>\n",
       "</div>"
      ],
      "text/plain": [
       "                                 agency  \\\n",
       "1             Transportation Department   \n",
       "2  Commodity Futures Trading Commission   \n",
       "\n",
       "                                            abstract  type  \\\n",
       "1  We are superseding Airworthiness Directive (AD...  Rule   \n",
       "2  The Commodity Futures Trading Commission (Comm...  Rule   \n",
       "\n",
       "                                       abstract-utf8  \\\n",
       "1  We are superseding Airworthiness Directive (AD...   \n",
       "2  The Commodity Futures Trading Commission (Comm...   \n",
       "\n",
       "                                              newcol  \n",
       "1  (We are superseding Airworthiness Directive (A...  \n",
       "2  (The Commodity Futures Trading Commission (Com...  "
      ]
     },
     "execution_count": 8,
     "metadata": {},
     "output_type": "execute_result"
    }
   ],
   "source": [
    "# Apply this function to the pandas dataframe.\n",
    "df_train['newcol'] = df_train.apply(lambda x: dictionize_me(x), axis=1)\n",
    "df_train.head(2)"
   ]
  },
  {
   "cell_type": "code",
   "execution_count": 9,
   "metadata": {},
   "outputs": [
    {
     "data": {
      "text/plain": [
       "('We are superseding Airworthiness Directive (AD) 2017-11-03 for DG Flugzeugbau GmbH Model DG-500MB gliders that are equipped with a Solo 2625 02 engine modified with a fuel injection system following the instructions of Solo Kleinmoteren GmbH Technische Mitteilung 4600-3 and identified as Solo 2625 02i. This AD results from mandatory continuing airworthiness information (MCAI) issued by an aviation authority of another country to identify and correct an unsafe condition on an aviation product. The MCAI describes the unsafe condition as failure of the connecting rod bearing resulting from too much load on the rod bearings from the engine control unit. This AD adds a model to the applicability. We are issuing this AD to require actions to address the unsafe condition on these products.',\n",
       " {'cats': {'Notice': 0, 'Rule': 1}})"
      ]
     },
     "execution_count": 9,
     "metadata": {},
     "output_type": "execute_result"
    }
   ],
   "source": [
    "# Convert this into a list\n",
    "train_data=list(df_train['newcol'])\n",
    "train_data[0]"
   ]
  },
  {
   "cell_type": "code",
   "execution_count": 10,
   "metadata": {},
   "outputs": [],
   "source": [
    "# Create an analytic \"pipeline\" of type \"textcat\"\n",
    "mytextcat2 = nlp.create_pipe('textcat') # Note that we use 'textcat2' to distinguish from earlier example.\n",
    "nlp.add_pipe(mytextcat2, last=True)"
   ]
  },
  {
   "cell_type": "code",
   "execution_count": 11,
   "metadata": {},
   "outputs": [
    {
     "data": {
      "text/plain": [
       "1"
      ]
     },
     "execution_count": 11,
     "metadata": {},
     "output_type": "execute_result"
    }
   ],
   "source": [
    "# Add labels to the pipeline. These will be called using the `.cats` attribute, below.\n",
    "mytextcat2.add_label('Notice')\n",
    "mytextcat2.add_label('Rule')"
   ]
  },
  {
   "cell_type": "code",
   "execution_count": 12,
   "metadata": {},
   "outputs": [
    {
     "name": "stdout",
     "output_type": "stream",
     "text": [
      "Warning: Unnamed vectors -- this won't allow multiple vectors models to be loaded. (Shape: (0, 0))\n"
     ]
    }
   ],
   "source": [
    "# Begin training. \n",
    "optimizer = nlp.begin_training()"
   ]
  },
  {
   "cell_type": "code",
   "execution_count": 13,
   "metadata": {},
   "outputs": [],
   "source": [
    "# Apply to training_data\n",
    "for x in range(10):\n",
    "    for doc, gold in train_data:\n",
    "        nlp.update([doc], [gold], sgd=optimizer)"
   ]
  },
  {
   "cell_type": "code",
   "execution_count": 14,
   "metadata": {},
   "outputs": [
    {
     "name": "stdout",
     "output_type": "stream",
     "text": [
      "{'Notice': 4.539787187241018e-05, 'Rule': 0.9999545812606812}\n"
     ]
    }
   ],
   "source": [
    "# Provide a new text, and classify it. The predicted category is called using the `.cats` attribute.\n",
    "doc = nlp(u'TEST TEST TEST We are TEST superseding TEST Airworthiness Directive (AD) 2017-11-03 for DG TEST Flugzeugbau GmbH Model DG-500MB gliders that are equipped with a Solo 2625 02 engine modified with a fuel injection system following the instructions of Solo Kleinmoteren GmbH Technische Mitteilung 4600-3 and identified as Solo 2625 02i. This AD results from mandatory continuing airworthiness information (MCAI) issued by an aviation authority of another country to identify and correct an unsafe condition on an aviation product. The MCAI describes the unsafe condition as failure of the connecting rod bearing resulting from too much load on the rod bearings from the engine control unit. This AD adds a model to the applicability. TEST TEST TEST We are issuing this AD to require actions to address the unsafe condition on these products. TEST TEST TEST TEST')\n",
    "print(doc.cats)"
   ]
  },
  {
   "cell_type": "code",
   "execution_count": 15,
   "metadata": {},
   "outputs": [],
   "source": [
    "# Classify the testing dataset.\n",
    "def classify_testing_data(row):\n",
    "    doc = nlp(row['abstract-utf8'])\n",
    "    return (row['abstract'], row['type'], doc.cats['Notice'])"
   ]
  },
  {
   "cell_type": "code",
   "execution_count": 16,
   "metadata": {},
   "outputs": [
    {
     "data": {
      "text/plain": [
       "agency                                 Veterans Affairs Department\n",
       "abstract         The Department of Veterans Affairs (VA), in th...\n",
       "type                                                          Rule\n",
       "abstract-utf8    The Department of Veterans Affairs (VA), in th...\n",
       "Name: 1901, dtype: object"
      ]
     },
     "execution_count": 16,
     "metadata": {},
     "output_type": "execute_result"
    }
   ],
   "source": [
    "df_test.iloc[0]"
   ]
  },
  {
   "cell_type": "code",
   "execution_count": 17,
   "metadata": {},
   "outputs": [
    {
     "data": {
      "text/plain": [
       "(\"The Department of Veterans Affairs (VA), in this final rule, amends its regulations governing the Service-Disabled Veterans' Insurance (S-DVI) program in order to explain that a person who was granted S-DVI as of the date of death is not eligible for supplemental S-DVI because the insured's total disability did not begin after the date of the insured's application for insurance and while the insurance was in force under premium-paying conditions.\",\n",
       " 'Rule',\n",
       " 0.9381229281425476)"
      ]
     },
     "execution_count": 17,
     "metadata": {},
     "output_type": "execute_result"
    }
   ],
   "source": [
    "classify_testing_data(df_test.iloc[0])"
   ]
  },
  {
   "cell_type": "code",
   "execution_count": 18,
   "metadata": {},
   "outputs": [],
   "source": [
    "newdf=df_test.apply(lambda x: classify_testing_data(x), axis=1)"
   ]
  },
  {
   "cell_type": "code",
   "execution_count": 19,
   "metadata": {},
   "outputs": [
    {
     "data": {
      "text/plain": [
       "('The Commission is updating the competitive product list. This action reflects a publication policy adopted by Commission order. The referenced policy assumes periodic updates. The updates are identified in the body of this document. The competitive product list, which is re-published in its entirety, includes these updates.',\n",
       " 'Rule',\n",
       " 0.03248096629977226)"
      ]
     },
     "execution_count": 19,
     "metadata": {},
     "output_type": "execute_result"
    }
   ],
   "source": [
    "newdf[1902]"
   ]
  },
  {
   "cell_type": "code",
   "execution_count": 20,
   "metadata": {},
   "outputs": [
    {
     "data": {
      "text/html": [
       "<div>\n",
       "<style scoped>\n",
       "    .dataframe tbody tr th:only-of-type {\n",
       "        vertical-align: middle;\n",
       "    }\n",
       "\n",
       "    .dataframe tbody tr th {\n",
       "        vertical-align: top;\n",
       "    }\n",
       "\n",
       "    .dataframe thead th {\n",
       "        text-align: right;\n",
       "    }\n",
       "</style>\n",
       "<table border=\"1\" class=\"dataframe\">\n",
       "  <thead>\n",
       "    <tr style=\"text-align: right;\">\n",
       "      <th></th>\n",
       "      <th>abstract</th>\n",
       "      <th>type</th>\n",
       "      <th>notice_prob</th>\n",
       "    </tr>\n",
       "  </thead>\n",
       "  <tbody>\n",
       "    <tr>\n",
       "      <th>0</th>\n",
       "      <td>The Department of Veterans Affairs (VA), in th...</td>\n",
       "      <td>Rule</td>\n",
       "      <td>0.938123</td>\n",
       "    </tr>\n",
       "    <tr>\n",
       "      <th>1</th>\n",
       "      <td>The Commission is updating the competitive pro...</td>\n",
       "      <td>Rule</td>\n",
       "      <td>0.032481</td>\n",
       "    </tr>\n",
       "  </tbody>\n",
       "</table>\n",
       "</div>"
      ],
      "text/plain": [
       "                                            abstract  type  notice_prob\n",
       "0  The Department of Veterans Affairs (VA), in th...  Rule     0.938123\n",
       "1  The Commission is updating the competitive pro...  Rule     0.032481"
      ]
     },
     "execution_count": 20,
     "metadata": {},
     "output_type": "execute_result"
    }
   ],
   "source": [
    "df2 = pd.DataFrame(list(newdf), columns=['abstract', 'type', 'notice_prob'])\n",
    "df2.head(2)"
   ]
  },
  {
   "cell_type": "code",
   "execution_count": 21,
   "metadata": {},
   "outputs": [],
   "source": [
    "# Create dummy variables.\n",
    "df2['actual_notice']=df2['type']=='Notice'\n",
    "df2['pred_notice']=df2['notice_prob']>.5"
   ]
  },
  {
   "cell_type": "code",
   "execution_count": 22,
   "metadata": {},
   "outputs": [],
   "source": [
    "# Create the confusion matrix variables\n",
    "df2['conf_matrix']=''\n",
    "df2.loc[(df2['actual_notice']==True) & (df2['pred_notice']==True),  'conf_matrix']='true_pos'\n",
    "df2.loc[(df2['actual_notice']==True) & (df2['pred_notice']==False), 'conf_matrix']='false_neg'\n",
    "df2.loc[(df2['actual_notice']==False) & (df2['pred_notice']==False),  'conf_matrix']='true_neg'\n",
    "df2.loc[(df2['actual_notice']==False) & (df2['pred_notice']==True),  'conf_matrix']='false_pos'"
   ]
  },
  {
   "cell_type": "code",
   "execution_count": 23,
   "metadata": {},
   "outputs": [
    {
     "data": {
      "text/plain": [
       "true_pos     75\n",
       "false_pos    20\n",
       "true_neg      4\n",
       "false_neg     1\n",
       "Name: conf_matrix, dtype: int64"
      ]
     },
     "execution_count": 23,
     "metadata": {},
     "output_type": "execute_result"
    }
   ],
   "source": [
    "# Build the conf matrix\n",
    "df2['conf_matrix'].value_counts()"
   ]
  },
  {
   "cell_type": "code",
   "execution_count": 24,
   "metadata": {},
   "outputs": [
    {
     "name": "stdout",
     "output_type": "stream",
     "text": [
      "Accuracy: 0.76\n",
      "Sensitivity: 0.95\n",
      "Precision: 0.79\n",
      "Specificity: 0.05\n"
     ]
    }
   ],
   "source": [
    "TP=df2['conf_matrix'].value_counts()[0]\n",
    "FP=df2['conf_matrix'].value_counts()[1]\n",
    "FN=df2['conf_matrix'].value_counts()[2]\n",
    "TN=df2['conf_matrix'].value_counts()[3]\n",
    "ALL=len(df_test)\n",
    "print(f'Accuracy: {round((TP + TN)/ALL, 2)}')\n",
    "print(f'Sensitivity: {round(TP/ (TP + FN), 2)}')\n",
    "print(f'Precision: {round(TP / (TP + FP), 2)}')\n",
    "print(f'Specificity: {round(TN / (TN + FP), 2)}')"
   ]
  },
  {
   "cell_type": "markdown",
   "metadata": {},
   "source": [
    "#### Accuracy:   \n",
    "Overall, how often is it correct?  \n",
    "(TP + TN) / total\n",
    "\n",
    "#### Sensitivity (Recall):\n",
    "When actual value is positive, how often is prediction correct?   \n",
    "TP / actual yes   \n",
    "“True Positive Rate” or “Recall”   \n",
    "\n",
    "#### Precision:\n",
    "TP / (TP + FP)\n",
    "\n",
    "#### Specificity:\n",
    "When actual value is negative, how often is prediction correct?   \n",
    "TN / actual no\n",
    "\n",
    "#### Misclassification Rate (Error Rate):   \n",
    "Overall, how often is it wrong?   \n",
    "(FP + FN) / total "
   ]
  },
  {
   "cell_type": "markdown",
   "metadata": {},
   "source": [
    "## ROC-AUC Curve"
   ]
  },
  {
   "cell_type": "code",
   "execution_count": 25,
   "metadata": {},
   "outputs": [],
   "source": [
    "def roc(probas, true, step=0.01):\n",
    "    \"\"\"\n",
    "    probas should be a numpy array of predict_probas\n",
    "    true is a pandas series of true labels\n",
    "    step is the step size for checking thresholds\n",
    "    \"\"\"\n",
    "    \n",
    "    true = true.values    # We need to convert the class labels from a Pandas Series to a numpy array. We do this using the .values attribute\n",
    "    assert(len(probas) == len(true)) # We're making sure that our probabilities vector is the same length as our true class labesl vector\n",
    "    \n",
    "    TPRs = [] # Setting up empty list of True Positive Rate\n",
    "    FPRs = [] # Setting up empty list of False Positive Rate\n",
    "    \n",
    "    for i in np.arange(0.0,1.0,step): # np.arange allows us to use step sizes that are decimals\n",
    "        preds_class = probas > i # Numpy arrays have a feature called 'broadcasting.' Check the documentation: https://docs.scipy.org/doc/numpy-1.13.0/user/basics.broadcasting.html to see what this does.\n",
    "        TP = 0 \n",
    "        FP = 0\n",
    "        TN = 0\n",
    "        FN = 0\n",
    "        for index in range(len(preds_class)): # We're comparing each prediction with each true value here\n",
    "\n",
    "            if preds_class[index] == 1 and true[index] == 1:\n",
    "                TP += 1\n",
    "            elif preds_class[index] == 1 and true[index] == 0:\n",
    "                FP += 1\n",
    "            elif preds_class[index] == 0 and true[index] == 0:\n",
    "                TN += 1 \n",
    "            elif preds_class[index] == 0 and true[index] == 1:\n",
    "                FN += 1\n",
    "                \n",
    "        TPR = TP/(TP + FN) # Calculating TPR and FPR and appending to our lists\n",
    "        FPR = FP/(FP + TN)\n",
    "        \n",
    "        TPRs.append(TPR)\n",
    "        FPRs.append(FPR)\n",
    "         \n",
    "    plt.rcParams['font.size'] = 14\n",
    "    plt.plot(FPRs, TPRs, color=\"orange\")\n",
    "    plt.plot([0,1],[0,1], color='navy', lw=2, linestyle='--')\n",
    "    plt.xlim([0.0, 1.0])\n",
    "    plt.ylim([0.0, 1.0])\n",
    "    plt.title('Receiver Operating Characteristic')\n",
    "    plt.xlabel(\"False Positive Rate\")\n",
    "    plt.ylabel(\"True Positive Rate\")\n",
    "    plt.show();"
   ]
  },
  {
   "cell_type": "code",
   "execution_count": 26,
   "metadata": {},
   "outputs": [],
   "source": [
    "true=df2['actual_notice'].astype(float)"
   ]
  },
  {
   "cell_type": "code",
   "execution_count": 27,
   "metadata": {},
   "outputs": [],
   "source": [
    "probas=df2['notice_prob']"
   ]
  },
  {
   "cell_type": "code",
   "execution_count": 28,
   "metadata": {},
   "outputs": [
    {
     "data": {
      "image/png": "[encoded data removed]",
      "text/plain": [
       "<Figure size 432x288 with 1 Axes>"
      ]
     },
     "metadata": {
      "needs_background": "light"
     },
     "output_type": "display_data"
    }
   ],
   "source": [
    "# Apply the function\n",
    "roc(probas=probas, true=true, step=0.001);"
   ]
  },
  {
   "cell_type": "code",
   "execution_count": null,
   "metadata": {},
   "outputs": [],
   "source": []
  }
 ],
 "metadata": {
  "kernelspec": {
   "display_name": "Python (spacyenv)",
   "language": "python",
   "name": "spacyenv"
  },
  "language_info": {
   "codemirror_mode": {
    "name": "ipython",
    "version": 3
   },
   "file_extension": ".py",
   "mimetype": "text/x-python",
   "name": "python",
   "nbconvert_exporter": "python",
   "pygments_lexer": "ipython3",
   "version": "3.6.6"
  }
 },
 "nbformat": 4,
 "nbformat_minor": 2
}
