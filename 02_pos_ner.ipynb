{
 "cells": [
  {
   "cell_type": "markdown",
   "metadata": {},
   "source": [
    "# Using `spaCy` for part-of-speech and named entity recognition"
   ]
  },
  {
   "cell_type": "markdown",
   "metadata": {},
   "source": [
    "Prior to running this code, it's necessary to install `spaCy` on your machine, and also to download its English libraries. "
   ]
  },
  {
   "cell_type": "code",
   "execution_count": 1,
   "metadata": {},
   "outputs": [],
   "source": [
    "import spacy\n",
    "import pandas as pd\n",
    "from spacy.tokens import Doc\n",
    "from spacy.vocab import Vocab"
   ]
  },
  {
   "cell_type": "code",
   "execution_count": 2,
   "metadata": {},
   "outputs": [],
   "source": [
    "# Load the pre-defined English model:\n",
    "nlp = spacy.load('en_core_web_sm')"
   ]
  },
  {
   "cell_type": "code",
   "execution_count": 3,
   "metadata": {},
   "outputs": [],
   "source": [
    "# Load the small pre-defined general English model (this is sufficient for most tasks):\n",
    "nlp = spacy.load('en')"
   ]
  },
  {
   "cell_type": "markdown",
   "metadata": {},
   "source": [
    "## For a single sentence"
   ]
  },
  {
   "cell_type": "code",
   "execution_count": 4,
   "metadata": {},
   "outputs": [],
   "source": [
    "# Tokenize a sample sentence:\n",
    "doc = nlp(u'Apple is looking at buying U.K. startup for $1 billion.')"
   ]
  },
  {
   "cell_type": "code",
   "execution_count": 7,
   "metadata": {},
   "outputs": [
    {
     "name": "stdout",
     "output_type": "stream",
     "text": [
      "Apple PROPN\n",
      "is VERB\n",
      "looking VERB\n",
      "at ADP\n",
      "buying VERB\n",
      "U.K. PROPN\n",
      "startup NOUN\n",
      "for ADP\n",
      "$ SYM\n",
      "1 NUM\n",
      "billion NUM\n",
      ". PUNCT\n"
     ]
    }
   ],
   "source": [
    "# Display part-of-speech tagging \n",
    "for token in doc:\n",
    "    print(token.text, token.pos_)"
   ]
  },
  {
   "cell_type": "code",
   "execution_count": 8,
   "metadata": {},
   "outputs": [
    {
     "data": {
      "text/html": [
       "<div class=\"entities\" style=\"line-height: 2.5\">\n",
       "<mark class=\"entity\" style=\"background: #7aecec; padding: 0.45em 0.6em; margin: 0 0.25em; line-height: 1; border-radius: 0.35em; box-decoration-break: clone; -webkit-box-decoration-break: clone\">\n",
       "    Apple\n",
       "    <span style=\"font-size: 0.8em; font-weight: bold; line-height: 1; border-radius: 0.35em; text-transform: uppercase; vertical-align: middle; margin-left: 0.5rem\">ORG</span>\n",
       "</mark>\n",
       " is looking at buying \n",
       "<mark class=\"entity\" style=\"background: #feca74; padding: 0.45em 0.6em; margin: 0 0.25em; line-height: 1; border-radius: 0.35em; box-decoration-break: clone; -webkit-box-decoration-break: clone\">\n",
       "    U.K.\n",
       "    <span style=\"font-size: 0.8em; font-weight: bold; line-height: 1; border-radius: 0.35em; text-transform: uppercase; vertical-align: middle; margin-left: 0.5rem\">GPE</span>\n",
       "</mark>\n",
       " startup for \n",
       "<mark class=\"entity\" style=\"background: #e4e7d2; padding: 0.45em 0.6em; margin: 0 0.25em; line-height: 1; border-radius: 0.35em; box-decoration-break: clone; -webkit-box-decoration-break: clone\">\n",
       "    $1 billion\n",
       "    <span style=\"font-size: 0.8em; font-weight: bold; line-height: 1; border-radius: 0.35em; text-transform: uppercase; vertical-align: middle; margin-left: 0.5rem\">MONEY</span>\n",
       "</mark>\n",
       ".</div>"
      ],
      "text/plain": [
       "<IPython.core.display.HTML object>"
      ]
     },
     "metadata": {},
     "output_type": "display_data"
    }
   ],
   "source": [
    "# Use the 'displacy' feature to show Named Entity Recognition (NER)\n",
    "spacy.displacy.render(doc, style='ent',jupyter=True)"
   ]
  },
  {
   "cell_type": "markdown",
   "metadata": {},
   "source": [
    "#### What this should look like if it ran correctly:"
   ]
  },
  {
   "cell_type": "markdown",
   "metadata": {},
   "source": [
    "<img src=\"resources/posner_example.png\" alt=\"change kernel\" style=\"width: 1000px;\"/>"
   ]
  },
  {
   "cell_type": "markdown",
   "metadata": {},
   "source": [
    "### Full range of `token` methods and attributes\n",
    "as listed on spacy [documentation](https://spacy.io/api/token)\n",
    "\n",
    "**Note**: adding an underscore `_` after some attributes (like `lemma`) will display text; removing will display vector.  \n",
    "**Note:** the `.dep_` attribute means \"Syntactic dependency relation\""
   ]
  },
  {
   "cell_type": "code",
   "execution_count": 15,
   "metadata": {},
   "outputs": [
    {
     "name": "stdout",
     "output_type": "stream",
     "text": [
      "Apple apple False nsubj\n",
      "is be True aux\n",
      "looking look False ROOT\n",
      "at at True prep\n",
      "buying buy False pcomp\n",
      "U.K. u.k. False compound\n",
      "startup startup False dobj\n",
      "for for True prep\n",
      "$ $ False quantmod\n",
      "1 1 False compound\n",
      "billion billion False pobj\n",
      ". . False punct\n"
     ]
    }
   ],
   "source": [
    "# display a few of the many token attributes.\n",
    "for token in doc:\n",
    "    print(token.text, token.lemma_, token.is_stop, token.dep_)"
   ]
  },
  {
   "cell_type": "markdown",
   "metadata": {},
   "source": [
    "## For a pandas dataframe"
   ]
  },
  {
   "cell_type": "code",
   "execution_count": 23,
   "metadata": {},
   "outputs": [
    {
     "data": {
      "text/html": [
       "<div>\n",
       "<style scoped>\n",
       "    .dataframe tbody tr th:only-of-type {\n",
       "        vertical-align: middle;\n",
       "    }\n",
       "\n",
       "    .dataframe tbody tr th {\n",
       "        vertical-align: top;\n",
       "    }\n",
       "\n",
       "    .dataframe thead th {\n",
       "        text-align: right;\n",
       "    }\n",
       "</style>\n",
       "<table border=\"1\" class=\"dataframe\">\n",
       "  <thead>\n",
       "    <tr style=\"text-align: right;\">\n",
       "      <th></th>\n",
       "      <th>document_number</th>\n",
       "      <th>abstract</th>\n",
       "    </tr>\n",
       "  </thead>\n",
       "  <tbody>\n",
       "    <tr>\n",
       "      <th>0</th>\n",
       "      <td>testing12345</td>\n",
       "      <td>The quick brown fox jumps over the lazy dog.</td>\n",
       "    </tr>\n",
       "    <tr>\n",
       "      <th>1</th>\n",
       "      <td>2018-10583</td>\n",
       "      <td>We are superseding Airworthiness Directive (AD...</td>\n",
       "    </tr>\n",
       "    <tr>\n",
       "      <th>2</th>\n",
       "      <td>2018-10902</td>\n",
       "      <td>The Commodity Futures Trading Commission (Comm...</td>\n",
       "    </tr>\n",
       "  </tbody>\n",
       "</table>\n",
       "</div>"
      ],
      "text/plain": [
       "  document_number                                           abstract\n",
       "0    testing12345       The quick brown fox jumps over the lazy dog.\n",
       "1      2018-10583  We are superseding Airworthiness Directive (AD...\n",
       "2      2018-10902  The Commodity Futures Trading Commission (Comm..."
      ]
     },
     "execution_count": 23,
     "metadata": {},
     "output_type": "execute_result"
    }
   ],
   "source": [
    "# Read in a CSV file with a column of text abstracts.\n",
    "df = pd.read_csv('resources/fedreg.csv')\n",
    "df.head(3)"
   ]
  },
  {
   "cell_type": "code",
   "execution_count": 25,
   "metadata": {},
   "outputs": [
    {
     "data": {
      "text/html": [
       "<div>\n",
       "<style scoped>\n",
       "    .dataframe tbody tr th:only-of-type {\n",
       "        vertical-align: middle;\n",
       "    }\n",
       "\n",
       "    .dataframe tbody tr th {\n",
       "        vertical-align: top;\n",
       "    }\n",
       "\n",
       "    .dataframe thead th {\n",
       "        text-align: right;\n",
       "    }\n",
       "</style>\n",
       "<table border=\"1\" class=\"dataframe\">\n",
       "  <thead>\n",
       "    <tr style=\"text-align: right;\">\n",
       "      <th></th>\n",
       "      <th>document_number</th>\n",
       "      <th>abstract</th>\n",
       "      <th>tokens</th>\n",
       "    </tr>\n",
       "  </thead>\n",
       "  <tbody>\n",
       "    <tr>\n",
       "      <th>0</th>\n",
       "      <td>testing12345</td>\n",
       "      <td>The quick brown fox jumps over the lazy dog.</td>\n",
       "      <td>(The, quick, brown, fox, jumps, over, the, laz...</td>\n",
       "    </tr>\n",
       "    <tr>\n",
       "      <th>1</th>\n",
       "      <td>2018-10583</td>\n",
       "      <td>We are superseding Airworthiness Directive (AD...</td>\n",
       "      <td>(We, are, superseding, Airworthiness, Directiv...</td>\n",
       "    </tr>\n",
       "    <tr>\n",
       "      <th>2</th>\n",
       "      <td>2018-10902</td>\n",
       "      <td>The Commodity Futures Trading Commission (Comm...</td>\n",
       "      <td>(The, Commodity, Futures, Trading, Commission,...</td>\n",
       "    </tr>\n",
       "  </tbody>\n",
       "</table>\n",
       "</div>"
      ],
      "text/plain": [
       "  document_number                                           abstract  \\\n",
       "0    testing12345       The quick brown fox jumps over the lazy dog.   \n",
       "1      2018-10583  We are superseding Airworthiness Directive (AD...   \n",
       "2      2018-10902  The Commodity Futures Trading Commission (Comm...   \n",
       "\n",
       "                                              tokens  \n",
       "0  (The, quick, brown, fox, jumps, over, the, laz...  \n",
       "1  (We, are, superseding, Airworthiness, Directiv...  \n",
       "2  (The, Commodity, Futures, Trading, Commission,...  "
      ]
     },
     "execution_count": 25,
     "metadata": {},
     "output_type": "execute_result"
    }
   ],
   "source": [
    "# Preprocess and vectorize the text column.\n",
    "df['tokens'] = df['abstract'].apply(lambda x: nlp(x))\n",
    "df.head(3)"
   ]
  },
  {
   "cell_type": "code",
   "execution_count": 27,
   "metadata": {},
   "outputs": [
    {
     "data": {
      "text/html": [
       "<div>\n",
       "<style scoped>\n",
       "    .dataframe tbody tr th:only-of-type {\n",
       "        vertical-align: middle;\n",
       "    }\n",
       "\n",
       "    .dataframe tbody tr th {\n",
       "        vertical-align: top;\n",
       "    }\n",
       "\n",
       "    .dataframe thead th {\n",
       "        text-align: right;\n",
       "    }\n",
       "</style>\n",
       "<table border=\"1\" class=\"dataframe\">\n",
       "  <thead>\n",
       "    <tr style=\"text-align: right;\">\n",
       "      <th></th>\n",
       "      <th>document_number</th>\n",
       "      <th>abstract</th>\n",
       "      <th>tokens</th>\n",
       "      <th>pos</th>\n",
       "    </tr>\n",
       "  </thead>\n",
       "  <tbody>\n",
       "    <tr>\n",
       "      <th>0</th>\n",
       "      <td>testing12345</td>\n",
       "      <td>The quick brown fox jumps over the lazy dog.</td>\n",
       "      <td>(The, quick, brown, fox, jumps, over, the, laz...</td>\n",
       "      <td>[DET, ADJ, ADJ, NOUN, VERB, ADP, DET, ADJ, NOU...</td>\n",
       "    </tr>\n",
       "    <tr>\n",
       "      <th>1</th>\n",
       "      <td>2018-10583</td>\n",
       "      <td>We are superseding Airworthiness Directive (AD...</td>\n",
       "      <td>(We, are, superseding, Airworthiness, Directiv...</td>\n",
       "      <td>[PRON, VERB, VERB, PROPN, PROPN, PUNCT, NOUN, ...</td>\n",
       "    </tr>\n",
       "    <tr>\n",
       "      <th>2</th>\n",
       "      <td>2018-10902</td>\n",
       "      <td>The Commodity Futures Trading Commission (Comm...</td>\n",
       "      <td>(The, Commodity, Futures, Trading, Commission,...</td>\n",
       "      <td>[DET, PROPN, PROPN, PROPN, PROPN, PUNCT, PROPN...</td>\n",
       "    </tr>\n",
       "  </tbody>\n",
       "</table>\n",
       "</div>"
      ],
      "text/plain": [
       "  document_number                                           abstract  \\\n",
       "0    testing12345       The quick brown fox jumps over the lazy dog.   \n",
       "1      2018-10583  We are superseding Airworthiness Directive (AD...   \n",
       "2      2018-10902  The Commodity Futures Trading Commission (Comm...   \n",
       "\n",
       "                                              tokens  \\\n",
       "0  (The, quick, brown, fox, jumps, over, the, laz...   \n",
       "1  (We, are, superseding, Airworthiness, Directiv...   \n",
       "2  (The, Commodity, Futures, Trading, Commission,...   \n",
       "\n",
       "                                                 pos  \n",
       "0  [DET, ADJ, ADJ, NOUN, VERB, ADP, DET, ADJ, NOU...  \n",
       "1  [PRON, VERB, VERB, PROPN, PROPN, PUNCT, NOUN, ...  \n",
       "2  [DET, PROPN, PROPN, PROPN, PROPN, PUNCT, PROPN...  "
      ]
     },
     "execution_count": 27,
     "metadata": {},
     "output_type": "execute_result"
    }
   ],
   "source": [
    "# get part-of-speech for tokens in every row\n",
    "def get_pos(doc):\n",
    "    return [token.pos_ for token in doc]\n",
    "\n",
    "df['pos'] = df['tokens'].apply(lambda x: get_pos(x))\n",
    "df.head(3)"
   ]
  },
  {
   "cell_type": "code",
   "execution_count": 30,
   "metadata": {},
   "outputs": [
    {
     "data": {
      "text/html": [
       "<div>\n",
       "<style scoped>\n",
       "    .dataframe tbody tr th:only-of-type {\n",
       "        vertical-align: middle;\n",
       "    }\n",
       "\n",
       "    .dataframe tbody tr th {\n",
       "        vertical-align: top;\n",
       "    }\n",
       "\n",
       "    .dataframe thead th {\n",
       "        text-align: right;\n",
       "    }\n",
       "</style>\n",
       "<table border=\"1\" class=\"dataframe\">\n",
       "  <thead>\n",
       "    <tr style=\"text-align: right;\">\n",
       "      <th></th>\n",
       "      <th>document_number</th>\n",
       "      <th>abstract</th>\n",
       "      <th>tokens</th>\n",
       "      <th>pos</th>\n",
       "      <th>dep</th>\n",
       "    </tr>\n",
       "  </thead>\n",
       "  <tbody>\n",
       "    <tr>\n",
       "      <th>0</th>\n",
       "      <td>testing12345</td>\n",
       "      <td>The quick brown fox jumps over the lazy dog.</td>\n",
       "      <td>(The, quick, brown, fox, jumps, over, the, laz...</td>\n",
       "      <td>[DET, ADJ, ADJ, NOUN, VERB, ADP, DET, ADJ, NOU...</td>\n",
       "      <td>[det, amod, amod, nsubj, ROOT, prep, det, amod...</td>\n",
       "    </tr>\n",
       "    <tr>\n",
       "      <th>1</th>\n",
       "      <td>2018-10583</td>\n",
       "      <td>We are superseding Airworthiness Directive (AD...</td>\n",
       "      <td>(We, are, superseding, Airworthiness, Directiv...</td>\n",
       "      <td>[PRON, VERB, VERB, PROPN, PROPN, PUNCT, NOUN, ...</td>\n",
       "      <td>[nsubj, aux, ROOT, compound, dobj, punct, appo...</td>\n",
       "    </tr>\n",
       "    <tr>\n",
       "      <th>2</th>\n",
       "      <td>2018-10902</td>\n",
       "      <td>The Commodity Futures Trading Commission (Comm...</td>\n",
       "      <td>(The, Commodity, Futures, Trading, Commission,...</td>\n",
       "      <td>[DET, PROPN, PROPN, PROPN, PROPN, PUNCT, PROPN...</td>\n",
       "      <td>[det, compound, compound, compound, nsubj, pun...</td>\n",
       "    </tr>\n",
       "  </tbody>\n",
       "</table>\n",
       "</div>"
      ],
      "text/plain": [
       "  document_number                                           abstract  \\\n",
       "0    testing12345       The quick brown fox jumps over the lazy dog.   \n",
       "1      2018-10583  We are superseding Airworthiness Directive (AD...   \n",
       "2      2018-10902  The Commodity Futures Trading Commission (Comm...   \n",
       "\n",
       "                                              tokens  \\\n",
       "0  (The, quick, brown, fox, jumps, over, the, laz...   \n",
       "1  (We, are, superseding, Airworthiness, Directiv...   \n",
       "2  (The, Commodity, Futures, Trading, Commission,...   \n",
       "\n",
       "                                                 pos  \\\n",
       "0  [DET, ADJ, ADJ, NOUN, VERB, ADP, DET, ADJ, NOU...   \n",
       "1  [PRON, VERB, VERB, PROPN, PROPN, PUNCT, NOUN, ...   \n",
       "2  [DET, PROPN, PROPN, PROPN, PROPN, PUNCT, PROPN...   \n",
       "\n",
       "                                                 dep  \n",
       "0  [det, amod, amod, nsubj, ROOT, prep, det, amod...  \n",
       "1  [nsubj, aux, ROOT, compound, dobj, punct, appo...  \n",
       "2  [det, compound, compound, compound, nsubj, pun...  "
      ]
     },
     "execution_count": 30,
     "metadata": {},
     "output_type": "execute_result"
    }
   ],
   "source": [
    "# get syntactic dependency for tokens in every row\n",
    "def get_dep(doc):\n",
    "    return [token.dep_ for token in doc]\n",
    "\n",
    "df['dep'] = df['tokens'].apply(lambda x: get_dep(x))\n",
    "df.head(3)"
   ]
  },
  {
   "cell_type": "code",
   "execution_count": 31,
   "metadata": {},
   "outputs": [
    {
     "data": {
      "text/html": [
       "<div>\n",
       "<style scoped>\n",
       "    .dataframe tbody tr th:only-of-type {\n",
       "        vertical-align: middle;\n",
       "    }\n",
       "\n",
       "    .dataframe tbody tr th {\n",
       "        vertical-align: top;\n",
       "    }\n",
       "\n",
       "    .dataframe thead th {\n",
       "        text-align: right;\n",
       "    }\n",
       "</style>\n",
       "<table border=\"1\" class=\"dataframe\">\n",
       "  <thead>\n",
       "    <tr style=\"text-align: right;\">\n",
       "      <th></th>\n",
       "      <th>document_number</th>\n",
       "      <th>abstract</th>\n",
       "      <th>tokens</th>\n",
       "      <th>pos</th>\n",
       "      <th>dep</th>\n",
       "      <th>stopwords</th>\n",
       "    </tr>\n",
       "  </thead>\n",
       "  <tbody>\n",
       "    <tr>\n",
       "      <th>0</th>\n",
       "      <td>testing12345</td>\n",
       "      <td>The quick brown fox jumps over the lazy dog.</td>\n",
       "      <td>(The, quick, brown, fox, jumps, over, the, laz...</td>\n",
       "      <td>[DET, ADJ, ADJ, NOUN, VERB, ADP, DET, ADJ, NOU...</td>\n",
       "      <td>[det, amod, amod, nsubj, ROOT, prep, det, amod...</td>\n",
       "      <td>[False, False, False, False, False, True, True...</td>\n",
       "    </tr>\n",
       "    <tr>\n",
       "      <th>1</th>\n",
       "      <td>2018-10583</td>\n",
       "      <td>We are superseding Airworthiness Directive (AD...</td>\n",
       "      <td>(We, are, superseding, Airworthiness, Directiv...</td>\n",
       "      <td>[PRON, VERB, VERB, PROPN, PROPN, PUNCT, NOUN, ...</td>\n",
       "      <td>[nsubj, aux, ROOT, compound, dobj, punct, appo...</td>\n",
       "      <td>[False, True, False, False, False, False, Fals...</td>\n",
       "    </tr>\n",
       "    <tr>\n",
       "      <th>2</th>\n",
       "      <td>2018-10902</td>\n",
       "      <td>The Commodity Futures Trading Commission (Comm...</td>\n",
       "      <td>(The, Commodity, Futures, Trading, Commission,...</td>\n",
       "      <td>[DET, PROPN, PROPN, PROPN, PROPN, PUNCT, PROPN...</td>\n",
       "      <td>[det, compound, compound, compound, nsubj, pun...</td>\n",
       "      <td>[False, False, False, False, False, False, Fal...</td>\n",
       "    </tr>\n",
       "  </tbody>\n",
       "</table>\n",
       "</div>"
      ],
      "text/plain": [
       "  document_number                                           abstract  \\\n",
       "0    testing12345       The quick brown fox jumps over the lazy dog.   \n",
       "1      2018-10583  We are superseding Airworthiness Directive (AD...   \n",
       "2      2018-10902  The Commodity Futures Trading Commission (Comm...   \n",
       "\n",
       "                                              tokens  \\\n",
       "0  (The, quick, brown, fox, jumps, over, the, laz...   \n",
       "1  (We, are, superseding, Airworthiness, Directiv...   \n",
       "2  (The, Commodity, Futures, Trading, Commission,...   \n",
       "\n",
       "                                                 pos  \\\n",
       "0  [DET, ADJ, ADJ, NOUN, VERB, ADP, DET, ADJ, NOU...   \n",
       "1  [PRON, VERB, VERB, PROPN, PROPN, PUNCT, NOUN, ...   \n",
       "2  [DET, PROPN, PROPN, PROPN, PROPN, PUNCT, PROPN...   \n",
       "\n",
       "                                                 dep  \\\n",
       "0  [det, amod, amod, nsubj, ROOT, prep, det, amod...   \n",
       "1  [nsubj, aux, ROOT, compound, dobj, punct, appo...   \n",
       "2  [det, compound, compound, compound, nsubj, pun...   \n",
       "\n",
       "                                           stopwords  \n",
       "0  [False, False, False, False, False, True, True...  \n",
       "1  [False, True, False, False, False, False, Fals...  \n",
       "2  [False, False, False, False, False, False, Fal...  "
      ]
     },
     "execution_count": 31,
     "metadata": {},
     "output_type": "execute_result"
    }
   ],
   "source": [
    "# get stop-word boolean for tokens in every row\n",
    "def get_stopw(doc):\n",
    "    return [token.is_stop for token in doc]\n",
    "\n",
    "df['stopwords'] = df['tokens'].apply(lambda x: get_stopw(x))\n",
    "df.head(3)"
   ]
  },
  {
   "cell_type": "code",
   "execution_count": null,
   "metadata": {},
   "outputs": [],
   "source": []
  }
 ],
 "metadata": {
  "kernelspec": {
   "display_name": "Python (spacyenv)",
   "language": "python",
   "name": "spacyenv"
  },
  "language_info": {
   "codemirror_mode": {
    "name": "ipython",
    "version": 3
   },
   "file_extension": ".py",
   "mimetype": "text/x-python",
   "name": "python",
   "nbconvert_exporter": "python",
   "pygments_lexer": "ipython3",
   "version": "3.6.6"
  }
 },
 "nbformat": 4,
 "nbformat_minor": 2
}
