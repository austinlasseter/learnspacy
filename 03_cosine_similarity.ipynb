{
 "cells": [
  {
   "cell_type": "markdown",
   "metadata": {},
   "source": [
    "# Using `spaCy` for cosine similarity"
   ]
  },
  {
   "cell_type": "markdown",
   "metadata": {},
   "source": [
    "Prior to running this code, it's necessary to install `spaCy` on your machine, and also to download its English libraries. "
   ]
  },
  {
   "cell_type": "code",
   "execution_count": 18,
   "metadata": {},
   "outputs": [],
   "source": [
    "import spacy\n",
    "import pandas as pd\n",
    "from spacy.tokens import Doc\n",
    "from spacy.vocab import Vocab"
   ]
  },
  {
   "cell_type": "code",
   "execution_count": 19,
   "metadata": {},
   "outputs": [],
   "source": [
    "# Load the pre-defined English model:\n",
    "nlp = spacy.load('en_core_web_sm')"
   ]
  },
  {
   "cell_type": "code",
   "execution_count": 20,
   "metadata": {},
   "outputs": [],
   "source": [
    "# Read in a CSV file with a column of text abstracts.\n",
    "df = pd.read_csv('resources/fedreg.csv')"
   ]
  },
  {
   "cell_type": "markdown",
   "metadata": {},
   "source": [
    "#### Prepare the text data for processing"
   ]
  },
  {
   "cell_type": "code",
   "execution_count": 21,
   "metadata": {},
   "outputs": [],
   "source": [
    "df=df[['document_number','abstract']] # Keep only the columns we need \n",
    "df=df.head(20) # Trim the dataset down to size, for example purposes\n",
    "df=df.dropna(how='any') # Drop any rows with missing data\n",
    "# df['abstract_utf']=df['abstract'].apply(lambda x: x.decode('utf-8')) # Convert the text to UTF8 format\n",
    "df.head()\n",
    "df.to_csv('resources/fedreg.csv', index=False)"
   ]
  },
  {
   "cell_type": "code",
   "execution_count": 22,
   "metadata": {},
   "outputs": [],
   "source": [
    "# Preprocess and vectorize the text column.\n",
    "df['tokens'] = df['abstract'].apply(lambda x: nlp(x))"
   ]
  },
  {
   "cell_type": "code",
   "execution_count": 23,
   "metadata": {},
   "outputs": [
    {
     "data": {
      "text/html": [
       "<div class=\"entities\" style=\"line-height: 2.5\">We are superseding \n",
       "<mark class=\"entity\" style=\"background: #7aecec; padding: 0.45em 0.6em; margin: 0 0.25em; line-height: 1; border-radius: 0.35em; box-decoration-break: clone; -webkit-box-decoration-break: clone\">\n",
       "    Airworthiness Directive\n",
       "    <span style=\"font-size: 0.8em; font-weight: bold; line-height: 1; border-radius: 0.35em; text-transform: uppercase; vertical-align: middle; margin-left: 0.5rem\">ORG</span>\n",
       "</mark>\n",
       " (AD) \n",
       "<mark class=\"entity\" style=\"background: #bfe1d9; padding: 0.45em 0.6em; margin: 0 0.25em; line-height: 1; border-radius: 0.35em; box-decoration-break: clone; -webkit-box-decoration-break: clone\">\n",
       "    2017\n",
       "    <span style=\"font-size: 0.8em; font-weight: bold; line-height: 1; border-radius: 0.35em; text-transform: uppercase; vertical-align: middle; margin-left: 0.5rem\">DATE</span>\n",
       "</mark>\n",
       "-11-03 for \n",
       "<mark class=\"entity\" style=\"background: #7aecec; padding: 0.45em 0.6em; margin: 0 0.25em; line-height: 1; border-radius: 0.35em; box-decoration-break: clone; -webkit-box-decoration-break: clone\">\n",
       "    DG Flugzeugbau\n",
       "    <span style=\"font-size: 0.8em; font-weight: bold; line-height: 1; border-radius: 0.35em; text-transform: uppercase; vertical-align: middle; margin-left: 0.5rem\">ORG</span>\n",
       "</mark>\n",
       " GmbH \n",
       "<mark class=\"entity\" style=\"background: #aa9cfc; padding: 0.45em 0.6em; margin: 0 0.25em; line-height: 1; border-radius: 0.35em; box-decoration-break: clone; -webkit-box-decoration-break: clone\">\n",
       "    Model\n",
       "    <span style=\"font-size: 0.8em; font-weight: bold; line-height: 1; border-radius: 0.35em; text-transform: uppercase; vertical-align: middle; margin-left: 0.5rem\">PERSON</span>\n",
       "</mark>\n",
       " DG-500MB gliders that are equipped with a Solo 2625 02 engine modified with a fuel injection system following the instructions of \n",
       "<mark class=\"entity\" style=\"background: #aa9cfc; padding: 0.45em 0.6em; margin: 0 0.25em; line-height: 1; border-radius: 0.35em; box-decoration-break: clone; -webkit-box-decoration-break: clone\">\n",
       "    Solo Kleinmoteren\n",
       "    <span style=\"font-size: 0.8em; font-weight: bold; line-height: 1; border-radius: 0.35em; text-transform: uppercase; vertical-align: middle; margin-left: 0.5rem\">PERSON</span>\n",
       "</mark>\n",
       " GmbH \n",
       "<mark class=\"entity\" style=\"background: #aa9cfc; padding: 0.45em 0.6em; margin: 0 0.25em; line-height: 1; border-radius: 0.35em; box-decoration-break: clone; -webkit-box-decoration-break: clone\">\n",
       "    Technische Mitteilung\n",
       "    <span style=\"font-size: 0.8em; font-weight: bold; line-height: 1; border-radius: 0.35em; text-transform: uppercase; vertical-align: middle; margin-left: 0.5rem\">PERSON</span>\n",
       "</mark>\n",
       " \n",
       "<mark class=\"entity\" style=\"background: #e4e7d2; padding: 0.45em 0.6em; margin: 0 0.25em; line-height: 1; border-radius: 0.35em; box-decoration-break: clone; -webkit-box-decoration-break: clone\">\n",
       "    4600-3\n",
       "    <span style=\"font-size: 0.8em; font-weight: bold; line-height: 1; border-radius: 0.35em; text-transform: uppercase; vertical-align: middle; margin-left: 0.5rem\">CARDINAL</span>\n",
       "</mark>\n",
       " and identified as \n",
       "<mark class=\"entity\" style=\"background: #bfeeb7; padding: 0.45em 0.6em; margin: 0 0.25em; line-height: 1; border-radius: 0.35em; box-decoration-break: clone; -webkit-box-decoration-break: clone\">\n",
       "    Solo\n",
       "    <span style=\"font-size: 0.8em; font-weight: bold; line-height: 1; border-radius: 0.35em; text-transform: uppercase; vertical-align: middle; margin-left: 0.5rem\">PRODUCT</span>\n",
       "</mark>\n",
       " \n",
       "<mark class=\"entity\" style=\"background: #bfe1d9; padding: 0.45em 0.6em; margin: 0 0.25em; line-height: 1; border-radius: 0.35em; box-decoration-break: clone; -webkit-box-decoration-break: clone\">\n",
       "    2625 02i\n",
       "    <span style=\"font-size: 0.8em; font-weight: bold; line-height: 1; border-radius: 0.35em; text-transform: uppercase; vertical-align: middle; margin-left: 0.5rem\">DATE</span>\n",
       "</mark>\n",
       ". This AD results from mandatory continuing airworthiness information (\n",
       "<mark class=\"entity\" style=\"background: #aa9cfc; padding: 0.45em 0.6em; margin: 0 0.25em; line-height: 1; border-radius: 0.35em; box-decoration-break: clone; -webkit-box-decoration-break: clone\">\n",
       "    MCAI\n",
       "    <span style=\"font-size: 0.8em; font-weight: bold; line-height: 1; border-radius: 0.35em; text-transform: uppercase; vertical-align: middle; margin-left: 0.5rem\">PERSON</span>\n",
       "</mark>\n",
       ") issued by an aviation authority of another country to identify and correct an unsafe condition on an aviation product. The \n",
       "<mark class=\"entity\" style=\"background: #aa9cfc; padding: 0.45em 0.6em; margin: 0 0.25em; line-height: 1; border-radius: 0.35em; box-decoration-break: clone; -webkit-box-decoration-break: clone\">\n",
       "    MCAI\n",
       "    <span style=\"font-size: 0.8em; font-weight: bold; line-height: 1; border-radius: 0.35em; text-transform: uppercase; vertical-align: middle; margin-left: 0.5rem\">PERSON</span>\n",
       "</mark>\n",
       " describes the unsafe condition as failure of the connecting rod bearing resulting from too much load on the rod bearings from the engine control unit. This AD adds a model to the applicability. We are issuing this AD to require actions to address the unsafe condition on these products.</div>"
      ],
      "text/plain": [
       "<IPython.core.display.HTML object>"
      ]
     },
     "metadata": {},
     "output_type": "display_data"
    }
   ],
   "source": [
    "# Display POS tagging for first abstract.\n",
    "spacy.displacy.render(df['tokens'][1], style='ent',jupyter=True)"
   ]
  },
  {
   "cell_type": "markdown",
   "metadata": {},
   "source": [
    "#### Note that the 4th and 5th abstracts are similar but not identical. We would expect these to have a high cosine similarity score."
   ]
  },
  {
   "cell_type": "code",
   "execution_count": 24,
   "metadata": {},
   "outputs": [
    {
     "name": "stdout",
     "output_type": "stream",
     "text": [
      "The quick brown fox jumps over the lazy dog.\n",
      "\n",
      "\n",
      "We are extending the expiration date of Endocrine Disorders body system in the Listing of Impairments (listings) in our regulations. We are making no other revisions to the body system in this final rule. This extension ensures that we will continue to have the criteria we need to evaluate impairments in the affected body system at step three of the sequential evaluation processes for initial claims and continuing disability reviews.\n",
      "\n",
      "\n",
      "The Coast Guard has issued a temporary deviation from the operating schedule that governs the Monmouth County Highway Bridge (alternatively referred to as the ``Sea Bright Bridge'' or the ``S-32 Bridge'') across the Shrewsbury River, mile 4.0, at Sea Bright, New Jersey. This deviation will test a proposed change to the drawbridge operation schedule to determine whether a permanent change to the schedule is warranted. This deviation will allow the bridge to operate under an alternate schedule that seeks to balance the seasonally high volume of roadway traffic crossing the bridge during peak hours with the existing needs of marine traffic.\n",
      "\n",
      "\n",
      "The Coast Guard has issued a temporary deviation from the operating schedule that governs the Loop Parkway Bridge across Long Creek, mile 0.7, and Meadowbrook State Parkway Bridge across Sloop Channel, mile 12.8, both at Hempstead, New York. This deviation is necessary in order to facilitate a motorcycle ride event and allows both bridges to remain in the closed position for two hours.\n"
     ]
    }
   ],
   "source": [
    "print(df['abstract'][0])\n",
    "print('\\n')\n",
    "print(df['abstract'][3])\n",
    "print('\\n')\n",
    "print(df['abstract'][4])\n",
    "print('\\n')\n",
    "print(df['abstract'][5])"
   ]
  },
  {
   "cell_type": "code",
   "execution_count": 25,
   "metadata": {},
   "outputs": [],
   "source": [
    "# Assign variable names.\n",
    "doc0=df['tokens'][0]\n",
    "doc3=df['tokens'][3]\n",
    "doc4=df['tokens'][4]\n",
    "doc5=df['tokens'][5]"
   ]
  },
  {
   "cell_type": "code",
   "execution_count": 26,
   "metadata": {},
   "outputs": [
    {
     "name": "stdout",
     "output_type": "stream",
     "text": [
      "0.9083938093180972\n"
     ]
    }
   ],
   "source": [
    "# As expected, abstracts 4 and 5 are highly similar.\n",
    "print(doc4.similarity(doc5)) "
   ]
  },
  {
   "cell_type": "code",
   "execution_count": 27,
   "metadata": {},
   "outputs": [
    {
     "name": "stdout",
     "output_type": "stream",
     "text": [
      "0.8385613523655009\n"
     ]
    }
   ],
   "source": [
    "# Abstracts 4 and 3 are somewhat similar.\n",
    "print(doc4.similarity(doc3)) "
   ]
  },
  {
   "cell_type": "code",
   "execution_count": 28,
   "metadata": {},
   "outputs": [
    {
     "name": "stdout",
     "output_type": "stream",
     "text": [
      "0.7396282776292413\n"
     ]
    }
   ],
   "source": [
    "# Abstracts 4 and 0 are not really very similar.\n",
    "print(doc4.similarity(doc0)) "
   ]
  },
  {
   "cell_type": "markdown",
   "metadata": {},
   "source": [
    "## Add a new column in `pandas` dataframe, indicating similarity to a given text."
   ]
  },
  {
   "cell_type": "code",
   "execution_count": 36,
   "metadata": {},
   "outputs": [],
   "source": [
    "# Deliberately chosen for similarity to a few existing abstracts, especially # 05.\n",
    "test_text='TEST TEST TEST The Coast TEST Guard has TEST issued TEST a temporary deviation TEST from the operating schedule that governs the Loop Parkway Bridge across Long Creek, TEST mile 0.7, and TEST Meadowbrook State Parkway Bridge across TEST Sloop Channel, mile 12.8, both at Hempstead, New York. This deviation is necessary in order to facilitate a motorcycle ride event and allows both bridges to remain in the closed position for two hours. TEST TEST TEST'"
   ]
  },
  {
   "cell_type": "code",
   "execution_count": 40,
   "metadata": {},
   "outputs": [
    {
     "data": {
      "text/plain": [
       "0.9601535905458123"
      ]
     },
     "execution_count": 40,
     "metadata": {},
     "output_type": "execute_result"
    }
   ],
   "source": [
    "# vectorize that, and display its similarity to abstract #05.\n",
    "test_doc = nlp(test_text)\n",
    "doc5.similarity(doc)"
   ]
  },
  {
   "cell_type": "code",
   "execution_count": 41,
   "metadata": {},
   "outputs": [
    {
     "data": {
      "text/html": [
       "<div>\n",
       "<style scoped>\n",
       "    .dataframe tbody tr th:only-of-type {\n",
       "        vertical-align: middle;\n",
       "    }\n",
       "\n",
       "    .dataframe tbody tr th {\n",
       "        vertical-align: top;\n",
       "    }\n",
       "\n",
       "    .dataframe thead th {\n",
       "        text-align: right;\n",
       "    }\n",
       "</style>\n",
       "<table border=\"1\" class=\"dataframe\">\n",
       "  <thead>\n",
       "    <tr style=\"text-align: right;\">\n",
       "      <th></th>\n",
       "      <th>document_number</th>\n",
       "      <th>abstract</th>\n",
       "      <th>tokens</th>\n",
       "      <th>sim_score</th>\n",
       "    </tr>\n",
       "  </thead>\n",
       "  <tbody>\n",
       "    <tr>\n",
       "      <th>0</th>\n",
       "      <td>testing12345</td>\n",
       "      <td>The quick brown fox jumps over the lazy dog.</td>\n",
       "      <td>(The, quick, brown, fox, jumps, over, the, laz...</td>\n",
       "      <td>0.570798</td>\n",
       "    </tr>\n",
       "    <tr>\n",
       "      <th>1</th>\n",
       "      <td>2018-10583</td>\n",
       "      <td>We are superseding Airworthiness Directive (AD...</td>\n",
       "      <td>(We, are, superseding, Airworthiness, Directiv...</td>\n",
       "      <td>0.832701</td>\n",
       "    </tr>\n",
       "    <tr>\n",
       "      <th>2</th>\n",
       "      <td>2018-10902</td>\n",
       "      <td>The Commodity Futures Trading Commission (Comm...</td>\n",
       "      <td>(The, Commodity, Futures, Trading, Commission,...</td>\n",
       "      <td>0.856570</td>\n",
       "    </tr>\n",
       "  </tbody>\n",
       "</table>\n",
       "</div>"
      ],
      "text/plain": [
       "  document_number                                           abstract  \\\n",
       "0    testing12345       The quick brown fox jumps over the lazy dog.   \n",
       "1      2018-10583  We are superseding Airworthiness Directive (AD...   \n",
       "2      2018-10902  The Commodity Futures Trading Commission (Comm...   \n",
       "\n",
       "                                              tokens  sim_score  \n",
       "0  (The, quick, brown, fox, jumps, over, the, laz...   0.570798  \n",
       "1  (We, are, superseding, Airworthiness, Directiv...   0.832701  \n",
       "2  (The, Commodity, Futures, Trading, Commission,...   0.856570  "
      ]
     },
     "execution_count": 41,
     "metadata": {},
     "output_type": "execute_result"
    }
   ],
   "source": [
    "# For every abstract in the dataset, display its similarity to the test document.\n",
    "df['sim_score']=df['tokens'].apply(lambda x: x.similarity(test_doc))\n",
    "df.head(3)"
   ]
  },
  {
   "cell_type": "code",
   "execution_count": 47,
   "metadata": {},
   "outputs": [
    {
     "data": {
      "text/html": [
       "<div>\n",
       "<style scoped>\n",
       "    .dataframe tbody tr th:only-of-type {\n",
       "        vertical-align: middle;\n",
       "    }\n",
       "\n",
       "    .dataframe tbody tr th {\n",
       "        vertical-align: top;\n",
       "    }\n",
       "\n",
       "    .dataframe thead th {\n",
       "        text-align: right;\n",
       "    }\n",
       "</style>\n",
       "<table border=\"1\" class=\"dataframe\">\n",
       "  <thead>\n",
       "    <tr style=\"text-align: right;\">\n",
       "      <th></th>\n",
       "      <th>abstract</th>\n",
       "      <th>sim_score</th>\n",
       "    </tr>\n",
       "  </thead>\n",
       "  <tbody>\n",
       "    <tr>\n",
       "      <th>5</th>\n",
       "      <td>The Coast Guard has issued a temporary deviation from the operating schedule that governs the Loop Parkway Bridge across Long Creek, mile 0.7, and Meadowbrook State Parkway Bridge across Sloop Channel, mile 12.8, both at Hempstead, New York. This deviation is necessary in order to facilitate a motorcycle ride event and allows both bridges to remain in the closed position for two hours.</td>\n",
       "      <td>0.960154</td>\n",
       "    </tr>\n",
       "    <tr>\n",
       "      <th>16</th>\n",
       "      <td>The Coast Guard proposes to modify the Marine Air Terminal, LaGuardia Airport Security Zone. The modification of the security zone would expand the existing security zone boundary north along the Rikers Island Bridge to the intersecting point on the southern tip of Rikers Island then east to the western end of LaGuardia Airport. This expanded security zone is necessary to protect the port, waterfront facilities, and waters of the United States from terrorism, sabotage, or other subversive acts and incidents of a similar nature during visits to New York City by various dignitaries. We invite your comments on this proposed rulemaking.</td>\n",
       "      <td>0.920878</td>\n",
       "    </tr>\n",
       "    <tr>\n",
       "      <th>9</th>\n",
       "      <td>This document corrects technical errors that appeared in the final rule with comment period and interim final rule with comment period published in the Federal Register on November 16, 2017 entitled ``Medicare Program; CY 2018 Updates to the Quality Payment Program; and Quality Payment Program: Extreme and Uncontrollable Circumstance Policy for the Transition Year'' (hereinafter referred to as the ``CY 2018 Quality Payment Program final rule'').</td>\n",
       "      <td>0.916684</td>\n",
       "    </tr>\n",
       "    <tr>\n",
       "      <th>6</th>\n",
       "      <td>The Coast Guard will enforce the temporary safety zone for the 42nd Annual Swim Around Key West, Key West, Florida from 9 a.m. until 6 p.m. on June 16, 2018. Our regulation for Recurring Safety Zones in Captain of the Port Key West Zone identifies the regulated area for this event. This action is necessary to ensure the safety of event participants and spectators. During the enforcement period, no person or vessel may enter, transit through, anchor in, or remain within the regulated area without approval from the Captain of the Port Key West or a designated representative.</td>\n",
       "      <td>0.914215</td>\n",
       "    </tr>\n",
       "    <tr>\n",
       "      <th>7</th>\n",
       "      <td>The Coast Guard will enforce the temporary safety zone for the Annual FKCC Swim Around Key West, in Key West, Florida from 9 a.m. until 6 p.m. on June 30, 2018. Our regulation for Recurring Safety Zones in Captain of the Port Key West Zone identifies the regulated area for this event. This action is necessary to ensure the safety of event participants and spectators. During the enforcement period, no person or vessel may enter, transit through, anchor in, or remain within the regulated area without approval from the Captain of the Port Key West or a designated representative.</td>\n",
       "      <td>0.910621</td>\n",
       "    </tr>\n",
       "  </tbody>\n",
       "</table>\n",
       "</div>"
      ],
      "text/plain": [
       "                                                                                                                                                                                                                                                                                                                                                                                                                                                                                                                                                                                                                                                            abstract  sim_score\n",
       "5                                                                                                                                                                                                                                                               The Coast Guard has issued a temporary deviation from the operating schedule that governs the Loop Parkway Bridge across Long Creek, mile 0.7, and Meadowbrook State Parkway Bridge across Sloop Channel, mile 12.8, both at Hempstead, New York. This deviation is necessary in order to facilitate a motorcycle ride event and allows both bridges to remain in the closed position for two hours.   0.960154\n",
       "16  The Coast Guard proposes to modify the Marine Air Terminal, LaGuardia Airport Security Zone. The modification of the security zone would expand the existing security zone boundary north along the Rikers Island Bridge to the intersecting point on the southern tip of Rikers Island then east to the western end of LaGuardia Airport. This expanded security zone is necessary to protect the port, waterfront facilities, and waters of the United States from terrorism, sabotage, or other subversive acts and incidents of a similar nature during visits to New York City by various dignitaries. We invite your comments on this proposed rulemaking.   0.920878\n",
       "9                                                                                                                                                                                                  This document corrects technical errors that appeared in the final rule with comment period and interim final rule with comment period published in the Federal Register on November 16, 2017 entitled ``Medicare Program; CY 2018 Updates to the Quality Payment Program; and Quality Payment Program: Extreme and Uncontrollable Circumstance Policy for the Transition Year'' (hereinafter referred to as the ``CY 2018 Quality Payment Program final rule'').   0.916684\n",
       "6                                                                The Coast Guard will enforce the temporary safety zone for the 42nd Annual Swim Around Key West, Key West, Florida from 9 a.m. until 6 p.m. on June 16, 2018. Our regulation for Recurring Safety Zones in Captain of the Port Key West Zone identifies the regulated area for this event. This action is necessary to ensure the safety of event participants and spectators. During the enforcement period, no person or vessel may enter, transit through, anchor in, or remain within the regulated area without approval from the Captain of the Port Key West or a designated representative.   0.914215\n",
       "7                                                             The Coast Guard will enforce the temporary safety zone for the Annual FKCC Swim Around Key West, in Key West, Florida from 9 a.m. until 6 p.m. on June 30, 2018. Our regulation for Recurring Safety Zones in Captain of the Port Key West Zone identifies the regulated area for this event. This action is necessary to ensure the safety of event participants and spectators. During the enforcement period, no person or vessel may enter, transit through, anchor in, or remain within the regulated area without approval from the Captain of the Port Key West or a designated representative.   0.910621"
      ]
     },
     "execution_count": 47,
     "metadata": {},
     "output_type": "execute_result"
    }
   ],
   "source": [
    "# Show the top ten most similar abstracts, in ascending order.\n",
    "pd.set_option('display.max_colwidth', 1000)\n",
    "df.sort_values(['sim_score'], ascending=False)[['abstract', 'sim_score']].head()"
   ]
  },
  {
   "cell_type": "code",
   "execution_count": 48,
   "metadata": {},
   "outputs": [
    {
     "data": {
      "text/html": [
       "<div>\n",
       "<style scoped>\n",
       "    .dataframe tbody tr th:only-of-type {\n",
       "        vertical-align: middle;\n",
       "    }\n",
       "\n",
       "    .dataframe tbody tr th {\n",
       "        vertical-align: top;\n",
       "    }\n",
       "\n",
       "    .dataframe thead th {\n",
       "        text-align: right;\n",
       "    }\n",
       "</style>\n",
       "<table border=\"1\" class=\"dataframe\">\n",
       "  <thead>\n",
       "    <tr style=\"text-align: right;\">\n",
       "      <th></th>\n",
       "      <th>abstract</th>\n",
       "      <th>sim_score</th>\n",
       "    </tr>\n",
       "  </thead>\n",
       "  <tbody>\n",
       "    <tr>\n",
       "      <th>1</th>\n",
       "      <td>We are superseding Airworthiness Directive (AD) 2017-11-03 for DG Flugzeugbau GmbH Model DG-500MB gliders that are equipped with a Solo 2625 02 engine modified with a fuel injection system following the instructions of Solo Kleinmoteren GmbH Technische Mitteilung 4600-3 and identified as Solo 2625 02i. This AD results from mandatory continuing airworthiness information (MCAI) issued by an aviation authority of another country to identify and correct an unsafe condition on an aviation product. The MCAI describes the unsafe condition as failure of the connecting rod bearing resulting from too much load on the rod bearings from the engine control unit. This AD adds a model to the applicability. We are issuing this AD to require actions to address the unsafe condition on these products.</td>\n",
       "      <td>0.832701</td>\n",
       "    </tr>\n",
       "    <tr>\n",
       "      <th>15</th>\n",
       "      <td>The Coast Guard proposes to establish a temporary safety zone for certain waters of Murrells Inlet, SC. This action is necessary to provide for the safety of the general public, spectators, vessels, and the marine environment from potential hazards during a fireworks display. This proposed rulemaking would prohibit persons and vessels from entering, transiting through, anchoring in, or remaining within the safety zone unless authorized by the Captain of the Port Charleston (COTP) or a designated representative. We invite your comments on this proposed rulemaking.</td>\n",
       "      <td>0.829100</td>\n",
       "    </tr>\n",
       "    <tr>\n",
       "      <th>19</th>\n",
       "      <td>This notice is to invite applications for loans and grants under the Rural Economic Development Loan and Grant (REDLG) Programs for fiscal year (FY) 2018, subject to the availability of funding. This notice is being issued in order to allow applicants sufficient time to leverage financing, prepare and submit their applications, and give the Agency time to process applications within FY 2018. Successful applications will be selected by the Agency for funding and subsequently awarded to the extent that funding may ultimately be made available through appropriations. An announcement on the website at http://www.rd.usda.gov/newsroom/notices-solicitation-applications-nosas will identify the amount received in the appropriations. All applicants are responsible for any expenses incurred in developing their applications.</td>\n",
       "      <td>0.789927</td>\n",
       "    </tr>\n",
       "    <tr>\n",
       "      <th>3</th>\n",
       "      <td>We are extending the expiration date of Endocrine Disorders body system in the Listing of Impairments (listings) in our regulations. We are making no other revisions to the body system in this final rule. This extension ensures that we will continue to have the criteria we need to evaluate impairments in the affected body system at step three of the sequential evaluation processes for initial claims and continuing disability reviews.</td>\n",
       "      <td>0.719938</td>\n",
       "    </tr>\n",
       "    <tr>\n",
       "      <th>0</th>\n",
       "      <td>The quick brown fox jumps over the lazy dog.</td>\n",
       "      <td>0.570798</td>\n",
       "    </tr>\n",
       "  </tbody>\n",
       "</table>\n",
       "</div>"
      ],
      "text/plain": [
       "                                                                                                                                                                                                                                                                                                                                                                                                                                                                                                                                                                                                                                                                                                                                                                                                                                                    abstract  sim_score\n",
       "1                                  We are superseding Airworthiness Directive (AD) 2017-11-03 for DG Flugzeugbau GmbH Model DG-500MB gliders that are equipped with a Solo 2625 02 engine modified with a fuel injection system following the instructions of Solo Kleinmoteren GmbH Technische Mitteilung 4600-3 and identified as Solo 2625 02i. This AD results from mandatory continuing airworthiness information (MCAI) issued by an aviation authority of another country to identify and correct an unsafe condition on an aviation product. The MCAI describes the unsafe condition as failure of the connecting rod bearing resulting from too much load on the rod bearings from the engine control unit. This AD adds a model to the applicability. We are issuing this AD to require actions to address the unsafe condition on these products.   0.832701\n",
       "15                                                                                                                                                                                                                                                                 The Coast Guard proposes to establish a temporary safety zone for certain waters of Murrells Inlet, SC. This action is necessary to provide for the safety of the general public, spectators, vessels, and the marine environment from potential hazards during a fireworks display. This proposed rulemaking would prohibit persons and vessels from entering, transiting through, anchoring in, or remaining within the safety zone unless authorized by the Captain of the Port Charleston (COTP) or a designated representative. We invite your comments on this proposed rulemaking.   0.829100\n",
       "19  This notice is to invite applications for loans and grants under the Rural Economic Development Loan and Grant (REDLG) Programs for fiscal year (FY) 2018, subject to the availability of funding. This notice is being issued in order to allow applicants sufficient time to leverage financing, prepare and submit their applications, and give the Agency time to process applications within FY 2018. Successful applications will be selected by the Agency for funding and subsequently awarded to the extent that funding may ultimately be made available through appropriations. An announcement on the website at http://www.rd.usda.gov/newsroom/notices-solicitation-applications-nosas will identify the amount received in the appropriations. All applicants are responsible for any expenses incurred in developing their applications.   0.789927\n",
       "3                                                                                                                                                                                                                                                                                                                                                                                                      We are extending the expiration date of Endocrine Disorders body system in the Listing of Impairments (listings) in our regulations. We are making no other revisions to the body system in this final rule. This extension ensures that we will continue to have the criteria we need to evaluate impairments in the affected body system at step three of the sequential evaluation processes for initial claims and continuing disability reviews.   0.719938\n",
       "0                                                                                                                                                                                                                                                                                                                                                                                                                                                                                                                                                                                                                                                                                                                                                                                                               The quick brown fox jumps over the lazy dog.   0.570798"
      ]
     },
     "execution_count": 48,
     "metadata": {},
     "output_type": "execute_result"
    }
   ],
   "source": [
    "# And the least similar abstracts.\n",
    "pd.set_option('display.max_colwidth', 1000)\n",
    "df.sort_values(['sim_score'], ascending=False)[['abstract', 'sim_score']].tail()"
   ]
  },
  {
   "cell_type": "code",
   "execution_count": null,
   "metadata": {},
   "outputs": [],
   "source": []
  }
 ],
 "metadata": {
  "kernelspec": {
   "display_name": "Python (spacyenv)",
   "language": "python",
   "name": "spacyenv"
  },
  "language_info": {
   "codemirror_mode": {
    "name": "ipython",
    "version": 3
   },
   "file_extension": ".py",
   "mimetype": "text/x-python",
   "name": "python",
   "nbconvert_exporter": "python",
   "pygments_lexer": "ipython3",
   "version": "3.6.6"
  }
 },
 "nbformat": 4,
 "nbformat_minor": 2
}
