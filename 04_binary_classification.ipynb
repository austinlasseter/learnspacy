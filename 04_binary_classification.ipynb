{
 "cells": [
  {
   "cell_type": "markdown",
   "metadata": {},
   "source": [
    "# Using `spaCy` for text classification"
   ]
  },
  {
   "cell_type": "markdown",
   "metadata": {},
   "source": [
    "Prior to running this code, it's necessary to install `spaCy` on your machine, and also to download its English libraries. "
   ]
  },
  {
   "cell_type": "code",
   "execution_count": 1,
   "metadata": {},
   "outputs": [],
   "source": [
    "import spacy\n",
    "import pandas as pd\n",
    "from spacy.tokens import Doc\n",
    "from spacy.vocab import Vocab"
   ]
  },
  {
   "cell_type": "code",
   "execution_count": 2,
   "metadata": {},
   "outputs": [],
   "source": [
    "# Load the pre-defined English model:\n",
    "nlp = spacy.load('en')"
   ]
  },
  {
   "cell_type": "markdown",
   "metadata": {},
   "source": [
    "### Example from `spacy` documentation"
   ]
  },
  {
   "cell_type": "markdown",
   "metadata": {},
   "source": [
    "source: https://github.com/explosion/spaCy/issues/1997"
   ]
  },
  {
   "cell_type": "code",
   "execution_count": null,
   "metadata": {},
   "outputs": [],
   "source": [
    "# Establish the training data\n",
    "train_data = [\n",
    "    (u\"That was very bad\", {\"cats\": {\"POSITIVE\": 0, \"NEGATIVE\": 1}}),\n",
    "    (u\"it is so bad\", {\"cats\": {\"POSITIVE\": 0, \"NEGATIVE\": 1}}),\n",
    "    (u\"so terrible\", {\"cats\": {\"POSITIVE\": 0, \"NEGATIVE\": 1}}),\n",
    "    (u\"I like it\", {\"cats\": {\"POSITIVE\": 1, \"NEGATIVE\": 0}}),\n",
    "    (u\"It is very good.\", {\"cats\": {\"POSITIVE\": 1, \"NEGATIVE\": 0}}),\n",
    "    (u\"That was great!\", {\"cats\": {\"POSITIVE\": 1, \"NEGATIVE\": 0}})\n",
    "]"
   ]
  },
  {
   "cell_type": "code",
   "execution_count": null,
   "metadata": {},
   "outputs": [],
   "source": [
    "# Create an analytic \"pipeline\" of type \"textcat\"\n",
    "mytextcat1 = nlp.create_pipe('textcat')\n",
    "nlp.add_pipe(mytextcat1, last=True)"
   ]
  },
  {
   "cell_type": "code",
   "execution_count": null,
   "metadata": {},
   "outputs": [],
   "source": [
    "# Add labels to the pipeline. These will be called using the `.cats` attribute, below.\n",
    "mytextcat1.add_label('POSITIVE')\n",
    "mytextcat1.add_label('NEGATIVE')"
   ]
  },
  {
   "cell_type": "code",
   "execution_count": null,
   "metadata": {},
   "outputs": [],
   "source": [
    "# Begin training. Note that \"gold\" refers to the \"ground truth\" labels.\n",
    "optimizer = nlp.begin_training()\n",
    "for itn in range(10):\n",
    "    for doc, gold in train_data:\n",
    "        nlp.update([doc], [gold], sgd=optimizer)"
   ]
  },
  {
   "cell_type": "code",
   "execution_count": null,
   "metadata": {},
   "outputs": [],
   "source": [
    "# Provide a new text, and classify it. The predicted category is called using the `.cats` attribute.\n",
    "doc = nlp(u'It is good.')\n",
    "print(doc.cats)"
   ]
  },
  {
   "cell_type": "code",
   "execution_count": null,
   "metadata": {},
   "outputs": [],
   "source": [
    "# Provide a new text, and classify it.\n",
    "doc = nlp(u'It is bad.')\n",
    "print(doc.cats)"
   ]
  }
 ],
 "metadata": {
  "kernelspec": {
   "display_name": "Python (spacyenv)",
   "language": "python",
   "name": "spacyenv"
  },
  "language_info": {
   "codemirror_mode": {
    "name": "ipython",
    "version": 3
   },
   "file_extension": ".py",
   "mimetype": "text/x-python",
   "name": "python",
   "nbconvert_exporter": "python",
   "pygments_lexer": "ipython3",
   "version": "3.6.6"
  }
 },
 "nbformat": 4,
 "nbformat_minor": 2
}
